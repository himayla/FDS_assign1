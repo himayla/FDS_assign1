{
 "cells": [
  {
   "cell_type": "code",
   "execution_count": 6,
   "metadata": {},
   "outputs": [],
   "source": [
    "import os\n",
    "import numpy as np\n",
    "import pandas as pd\n",
    "\n",
    "sessions = np.arange(25, 76)\n",
    "data = []\n",
    "\n",
    "# Load speeches\n",
    "for session in sessions:\n",
    "    directory = \"./TXT/Session \" + str(session) + \" - \" + str(1945 + session)\n",
    "    for filename in os.listdir(directory):\n",
    "        f = open(os.path.join(directory, filename))\n",
    "        if filename[0] == \".\": #ignore hidden files\n",
    "            continue\n",
    "        splt = filename.split(\"_\")\n",
    "        data.append([session, 1945 + session, splt[0], f.read()])\n",
    "\n",
    "\n",
    "df_speech = pd.DataFrame(data, columns=['Session','Year','ISO-alpha3 Code','Speech'])"
   ]
  },
  {
   "cell_type": "code",
   "execution_count": 7,
   "metadata": {},
   "outputs": [],
   "source": [
    "# Load country codes\n",
    "df_codes = pd.read_csv(\"UNSD — Methodology.csv\", delimiter=';')"
   ]
  },
  {
   "cell_type": "code",
   "execution_count": 8,
   "metadata": {},
   "outputs": [
    {
     "data": {
      "text/html": [
       "<div>\n",
       "<style scoped>\n",
       "    .dataframe tbody tr th:only-of-type {\n",
       "        vertical-align: middle;\n",
       "    }\n",
       "\n",
       "    .dataframe tbody tr th {\n",
       "        vertical-align: top;\n",
       "    }\n",
       "\n",
       "    .dataframe thead th {\n",
       "        text-align: right;\n",
       "    }\n",
       "</style>\n",
       "<table border=\"1\" class=\"dataframe\">\n",
       "  <thead>\n",
       "    <tr style=\"text-align: right;\">\n",
       "      <th></th>\n",
       "      <th>claim_id</th>\n",
       "      <th>claim</th>\n",
       "      <th>claim_label</th>\n",
       "      <th>evidences</th>\n",
       "    </tr>\n",
       "  </thead>\n",
       "  <tbody>\n",
       "    <tr>\n",
       "      <th>0</th>\n",
       "      <td>0</td>\n",
       "      <td>Global warming is driving polar bears toward e...</td>\n",
       "      <td>SUPPORTS</td>\n",
       "      <td>[{'evidence_id': 'Extinction risk from global ...</td>\n",
       "    </tr>\n",
       "    <tr>\n",
       "      <th>1</th>\n",
       "      <td>5</td>\n",
       "      <td>The sun has gone into ‘lockdown’ which could c...</td>\n",
       "      <td>SUPPORTS</td>\n",
       "      <td>[{'evidence_id': 'Famine:386', 'evidence_label...</td>\n",
       "    </tr>\n",
       "    <tr>\n",
       "      <th>2</th>\n",
       "      <td>6</td>\n",
       "      <td>The polar bear population has been growing.</td>\n",
       "      <td>REFUTES</td>\n",
       "      <td>[{'evidence_id': 'Polar bear:1332', 'evidence_...</td>\n",
       "    </tr>\n",
       "    <tr>\n",
       "      <th>3</th>\n",
       "      <td>9</td>\n",
       "      <td>Ironic' study finds more CO2 has slightly cool...</td>\n",
       "      <td>REFUTES</td>\n",
       "      <td>[{'evidence_id': 'Atmosphere of Mars:131', 'ev...</td>\n",
       "    </tr>\n",
       "    <tr>\n",
       "      <th>4</th>\n",
       "      <td>10</td>\n",
       "      <td>Human additions of CO2 are in the margin of er...</td>\n",
       "      <td>REFUTES</td>\n",
       "      <td>[{'evidence_id': 'Carbon dioxide in Earth's at...</td>\n",
       "    </tr>\n",
       "    <tr>\n",
       "      <th>...</th>\n",
       "      <td>...</td>\n",
       "      <td>...</td>\n",
       "      <td>...</td>\n",
       "      <td>...</td>\n",
       "    </tr>\n",
       "    <tr>\n",
       "      <th>1530</th>\n",
       "      <td>3125</td>\n",
       "      <td>About 60% of the warming observed from 1970 to...</td>\n",
       "      <td>NOT_ENOUGH_INFO</td>\n",
       "      <td>[{'evidence_id': 'Climate variability:103', 'e...</td>\n",
       "    </tr>\n",
       "    <tr>\n",
       "      <th>1531</th>\n",
       "      <td>3127</td>\n",
       "      <td>\"Skeptics hope that Postma’s alternative therm...</td>\n",
       "      <td>NOT_ENOUGH_INFO</td>\n",
       "      <td>[{'evidence_id': 'Meteorology:4', 'evidence_la...</td>\n",
       "    </tr>\n",
       "    <tr>\n",
       "      <th>1532</th>\n",
       "      <td>3130</td>\n",
       "      <td>\"There are other possible causes for climate c...</td>\n",
       "      <td>SUPPORTS</td>\n",
       "      <td>[{'evidence_id': 'Attribution of recent climat...</td>\n",
       "    </tr>\n",
       "    <tr>\n",
       "      <th>1533</th>\n",
       "      <td>3131</td>\n",
       "      <td>We don't need a high heat flow - just a high t...</td>\n",
       "      <td>NOT_ENOUGH_INFO</td>\n",
       "      <td>[{'evidence_id': 'Earth:161', 'evidence_label'...</td>\n",
       "    </tr>\n",
       "    <tr>\n",
       "      <th>1534</th>\n",
       "      <td>3134</td>\n",
       "      <td>Over the last decade, heatwaves are five times...</td>\n",
       "      <td>SUPPORTS</td>\n",
       "      <td>[{'evidence_id': 'Bushfires in Australia:126',...</td>\n",
       "    </tr>\n",
       "  </tbody>\n",
       "</table>\n",
       "<p>1535 rows × 4 columns</p>\n",
       "</div>"
      ],
      "text/plain": [
       "      claim_id                                              claim  \\\n",
       "0            0  Global warming is driving polar bears toward e...   \n",
       "1            5  The sun has gone into ‘lockdown’ which could c...   \n",
       "2            6        The polar bear population has been growing.   \n",
       "3            9  Ironic' study finds more CO2 has slightly cool...   \n",
       "4           10  Human additions of CO2 are in the margin of er...   \n",
       "...        ...                                                ...   \n",
       "1530      3125  About 60% of the warming observed from 1970 to...   \n",
       "1531      3127  \"Skeptics hope that Postma’s alternative therm...   \n",
       "1532      3130  \"There are other possible causes for climate c...   \n",
       "1533      3131  We don't need a high heat flow - just a high t...   \n",
       "1534      3134  Over the last decade, heatwaves are five times...   \n",
       "\n",
       "          claim_label                                          evidences  \n",
       "0            SUPPORTS  [{'evidence_id': 'Extinction risk from global ...  \n",
       "1            SUPPORTS  [{'evidence_id': 'Famine:386', 'evidence_label...  \n",
       "2             REFUTES  [{'evidence_id': 'Polar bear:1332', 'evidence_...  \n",
       "3             REFUTES  [{'evidence_id': 'Atmosphere of Mars:131', 'ev...  \n",
       "4             REFUTES  [{'evidence_id': 'Carbon dioxide in Earth's at...  \n",
       "...               ...                                                ...  \n",
       "1530  NOT_ENOUGH_INFO  [{'evidence_id': 'Climate variability:103', 'e...  \n",
       "1531  NOT_ENOUGH_INFO  [{'evidence_id': 'Meteorology:4', 'evidence_la...  \n",
       "1532         SUPPORTS  [{'evidence_id': 'Attribution of recent climat...  \n",
       "1533  NOT_ENOUGH_INFO  [{'evidence_id': 'Earth:161', 'evidence_label'...  \n",
       "1534         SUPPORTS  [{'evidence_id': 'Bushfires in Australia:126',...  \n",
       "\n",
       "[1535 rows x 4 columns]"
      ]
     },
     "execution_count": 8,
     "metadata": {},
     "output_type": "execute_result"
    }
   ],
   "source": [
    "# Load climate related json file\n",
    "climate = pd.read_json('data/climate-fever-dataset-r1.jsonl', lines=True) # Source https://www.sustainablefinance.uzh.ch/en/research/climate-fever.html\n",
    "climate['claim'] = climate['claim'].map(str)\n",
    "climate"
   ]
  },
  {
   "cell_type": "code",
   "execution_count": 9,
   "metadata": {},
   "outputs": [
    {
     "data": {
      "text/plain": [
       "(1000, 16)"
      ]
     },
     "execution_count": 9,
     "metadata": {},
     "output_type": "execute_result"
    }
   ],
   "source": [
    "df_un_merged = df_speech.merge(df_codes)\n",
    "\n",
    "# Reorder\n",
    "df_un_merged[[\"Country or Area\", \"Region Name\", \"Sub-region Name\", \\\n",
    "    \"ISO-alpha3 Code\", \"Least Developed Countries (LDC)\", \"Session\", \"Year\", \"Speech\"]]\n",
    "\n",
    "# Reindex\n",
    "df_un_merged = df_un_merged.set_index([\"Year\", \"ISO-alpha3 Code\"])\n",
    "\n",
    "df_un_merged = df_un_merged[:1000] # Small version for now\n",
    "df_un_merged.shape"
   ]
  },
  {
   "cell_type": "code",
   "execution_count": 10,
   "metadata": {},
   "outputs": [],
   "source": [
    "from nltk import word_tokenize\n",
    "from nltk.corpus import stopwords\n",
    "\n",
    "def preprocess(words):\n",
    "    sw = stopwords.words(\"english\")\n",
    "    clean = []\n",
    "    for w in words:\n",
    "        w = str.lower(w)\n",
    "        if (w not in sw) and (w.isalpha()):\n",
    "            clean.append(w)\n",
    "    return clean\n",
    "\n",
    "df_un_merged['Tokenized'] = df_un_merged['Speech'].apply(word_tokenize) # Takes long\n",
    "df_un_merged['Clean'] = df_un_merged['Tokenized'].apply(preprocess)"
   ]
  }
 ],
 "metadata": {
  "kernelspec": {
   "display_name": "Python 3.10.6 64-bit",
   "language": "python",
   "name": "python3"
  },
  "language_info": {
   "codemirror_mode": {
    "name": "ipython",
    "version": 3
   },
   "file_extension": ".py",
   "mimetype": "text/x-python",
   "name": "python",
   "nbconvert_exporter": "python",
   "pygments_lexer": "ipython3",
   "version": "3.10.6"
  },
  "orig_nbformat": 4,
  "vscode": {
   "interpreter": {
    "hash": "aee8b7b246df8f9039afb4144a1f6fd8d2ca17a180786b69acc140d282b71a49"
   }
  }
 },
 "nbformat": 4,
 "nbformat_minor": 2
}
