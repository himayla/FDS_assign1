{
 "cells": [
  {
   "cell_type": "markdown",
   "metadata": {},
   "source": [
    "TODO: \n",
    "- ! Think about what plots would suit the current question and hypotheses the best, e.g., histogram?"
   ]
  },
  {
   "cell_type": "markdown",
   "metadata": {},
   "source": [
    "This notebook contains the preparation of data (0), the modelling of the data (1), and visualisations of the results (2)."
   ]
  },
  {
   "cell_type": "markdown",
   "metadata": {},
   "source": [
    "#### 0. Prepare the data"
   ]
  },
  {
   "cell_type": "markdown",
   "metadata": {},
   "source": [
    "##### a) Load the daset containing the speeches"
   ]
  },
  {
   "cell_type": "code",
   "execution_count": 1,
   "metadata": {},
   "outputs": [
    {
     "data": {
      "text/html": [
       "<div>\n",
       "<style scoped>\n",
       "    .dataframe tbody tr th:only-of-type {\n",
       "        vertical-align: middle;\n",
       "    }\n",
       "\n",
       "    .dataframe tbody tr th {\n",
       "        vertical-align: top;\n",
       "    }\n",
       "\n",
       "    .dataframe thead th {\n",
       "        text-align: right;\n",
       "    }\n",
       "</style>\n",
       "<table border=\"1\" class=\"dataframe\">\n",
       "  <thead>\n",
       "    <tr style=\"text-align: right;\">\n",
       "      <th></th>\n",
       "      <th>Session</th>\n",
       "      <th>Year</th>\n",
       "      <th>ISO-alpha3 Code</th>\n",
       "      <th>Speech</th>\n",
       "    </tr>\n",
       "  </thead>\n",
       "  <tbody>\n",
       "    <tr>\n",
       "      <th>0</th>\n",
       "      <td>50</td>\n",
       "      <td>1995</td>\n",
       "      <td>BDI</td>\n",
       "      <td>The United Nations is celebrating its fiftieth...</td>\n",
       "    </tr>\n",
       "    <tr>\n",
       "      <th>1</th>\n",
       "      <td>50</td>\n",
       "      <td>1995</td>\n",
       "      <td>VNM</td>\n",
       "      <td>Allow me at the outset, on behalf of the\\ndele...</td>\n",
       "    </tr>\n",
       "    <tr>\n",
       "      <th>2</th>\n",
       "      <td>50</td>\n",
       "      <td>1995</td>\n",
       "      <td>PAK</td>\n",
       "      <td>I extend to you, Sir, my\\ndelegation’s felicit...</td>\n",
       "    </tr>\n",
       "    <tr>\n",
       "      <th>3</th>\n",
       "      <td>50</td>\n",
       "      <td>1995</td>\n",
       "      <td>MLI</td>\n",
       "      <td>We\\nare meeting on the eve of the fiftieth ann...</td>\n",
       "    </tr>\n",
       "    <tr>\n",
       "      <th>4</th>\n",
       "      <td>50</td>\n",
       "      <td>1995</td>\n",
       "      <td>FRA</td>\n",
       "      <td>Mr. President, I should like to say first how\\...</td>\n",
       "    </tr>\n",
       "  </tbody>\n",
       "</table>\n",
       "</div>"
      ],
      "text/plain": [
       "   Session  Year ISO-alpha3 Code  \\\n",
       "0       50  1995             BDI   \n",
       "1       50  1995             VNM   \n",
       "2       50  1995             PAK   \n",
       "3       50  1995             MLI   \n",
       "4       50  1995             FRA   \n",
       "\n",
       "                                              Speech  \n",
       "0  The United Nations is celebrating its fiftieth...  \n",
       "1  Allow me at the outset, on behalf of the\\ndele...  \n",
       "2  I extend to you, Sir, my\\ndelegation’s felicit...  \n",
       "3  We\\nare meeting on the eve of the fiftieth ann...  \n",
       "4  Mr. President, I should like to say first how\\...  "
      ]
     },
     "execution_count": 1,
     "metadata": {},
     "output_type": "execute_result"
    }
   ],
   "source": [
    "import os\n",
    "import numpy as np\n",
    "import pandas as pd\n",
    "\n",
    "sessions = np.arange(25, 76)\n",
    "data = []\n",
    "\n",
    "for session in sessions:\n",
    "    directory = \"data/TXT/Session \" + str(session) + \" - \" + str(1945 + session)\n",
    "    for filename in os.listdir(directory):\n",
    "        f = open(os.path.join(directory, filename))\n",
    "        if filename[0] == \".\": #ignore hidden files\n",
    "            continue\n",
    "        splt = filename.split(\"_\")\n",
    "        # Start from 1995\n",
    "        if session < 50:\n",
    "            continue\n",
    "        data.append([session, 1945 + session, splt[0], f.read()])\n",
    "\n",
    "df_speech = pd.DataFrame(data, columns=['Session','Year','ISO-alpha3 Code','Speech'])\n",
    "df_speech.head() # Shape: (4913, 4)"
   ]
  },
  {
   "cell_type": "code",
   "execution_count": 2,
   "metadata": {},
   "outputs": [
    {
     "data": {
      "text/html": [
       "<div>\n",
       "<style scoped>\n",
       "    .dataframe tbody tr th:only-of-type {\n",
       "        vertical-align: middle;\n",
       "    }\n",
       "\n",
       "    .dataframe tbody tr th {\n",
       "        vertical-align: top;\n",
       "    }\n",
       "\n",
       "    .dataframe thead th {\n",
       "        text-align: right;\n",
       "    }\n",
       "</style>\n",
       "<table border=\"1\" class=\"dataframe\">\n",
       "  <thead>\n",
       "    <tr style=\"text-align: right;\">\n",
       "      <th></th>\n",
       "      <th>Session</th>\n",
       "      <th>Year</th>\n",
       "      <th>ISO-alpha3 Code</th>\n",
       "      <th>Speech</th>\n",
       "    </tr>\n",
       "  </thead>\n",
       "  <tbody>\n",
       "    <tr>\n",
       "      <th>0</th>\n",
       "      <td>50</td>\n",
       "      <td>1995</td>\n",
       "      <td>BDI</td>\n",
       "      <td>The United Nations is celebrating its fiftieth...</td>\n",
       "    </tr>\n",
       "    <tr>\n",
       "      <th>1</th>\n",
       "      <td>50</td>\n",
       "      <td>1995</td>\n",
       "      <td>VNM</td>\n",
       "      <td>Allow me at the outset, on behalf of the\\ndele...</td>\n",
       "    </tr>\n",
       "    <tr>\n",
       "      <th>2</th>\n",
       "      <td>50</td>\n",
       "      <td>1995</td>\n",
       "      <td>PAK</td>\n",
       "      <td>I extend to you, Sir, my\\ndelegation’s felicit...</td>\n",
       "    </tr>\n",
       "    <tr>\n",
       "      <th>3</th>\n",
       "      <td>50</td>\n",
       "      <td>1995</td>\n",
       "      <td>MLI</td>\n",
       "      <td>We\\nare meeting on the eve of the fiftieth ann...</td>\n",
       "    </tr>\n",
       "    <tr>\n",
       "      <th>4</th>\n",
       "      <td>50</td>\n",
       "      <td>1995</td>\n",
       "      <td>FRA</td>\n",
       "      <td>Mr. President, I should like to say first how\\...</td>\n",
       "    </tr>\n",
       "  </tbody>\n",
       "</table>\n",
       "</div>"
      ],
      "text/plain": [
       "   Session  Year ISO-alpha3 Code  \\\n",
       "0       50  1995             BDI   \n",
       "1       50  1995             VNM   \n",
       "2       50  1995             PAK   \n",
       "3       50  1995             MLI   \n",
       "4       50  1995             FRA   \n",
       "\n",
       "                                              Speech  \n",
       "0  The United Nations is celebrating its fiftieth...  \n",
       "1  Allow me at the outset, on behalf of the\\ndele...  \n",
       "2  I extend to you, Sir, my\\ndelegation’s felicit...  \n",
       "3  We\\nare meeting on the eve of the fiftieth ann...  \n",
       "4  Mr. President, I should like to say first how\\...  "
      ]
     },
     "execution_count": 2,
     "metadata": {},
     "output_type": "execute_result"
    }
   ],
   "source": [
    "# Load recent speeches\n",
    "from pdfminer.high_level import extract_text\n",
    "\n",
    "folder = f'data/PDF/Session_76 - 2022/'\n",
    "\n",
    "data = []\n",
    "\n",
    "for file in os.listdir(folder):\n",
    "    if file.startswith('.'):\n",
    "        continue\n",
    "    f = open(os.path.join(folder, file), \"rb\")\n",
    "    splt = file.split(\"_\")\n",
    "    data.append([76, 2022, splt[0], extract_text(f)])\n",
    "\n",
    "df_recent = pd.DataFrame(data, columns=['Session','Year','ISO-alpha3 Code','Speech'])\n",
    "\n",
    "df_speech = pd.concat([df_speech, df_recent]) # Shape: (4923, 4)\n",
    "\n",
    "df_speech.head()"
   ]
  },
  {
   "cell_type": "markdown",
   "metadata": {},
   "source": [
    "##### b) Load the dataset containing the expenses\n",
    "\n",
    "Downloaded from https://ec.europa.eu/eurostat/databrowser/view/GOV_10A_EXP__custom_3484912/default/table?lang=en"
   ]
  },
  {
   "cell_type": "code",
   "execution_count": 3,
   "metadata": {},
   "outputs": [
    {
     "data": {
      "text/html": [
       "<div>\n",
       "<style scoped>\n",
       "    .dataframe tbody tr th:only-of-type {\n",
       "        vertical-align: middle;\n",
       "    }\n",
       "\n",
       "    .dataframe tbody tr th {\n",
       "        vertical-align: top;\n",
       "    }\n",
       "\n",
       "    .dataframe thead th {\n",
       "        text-align: right;\n",
       "    }\n",
       "</style>\n",
       "<table border=\"1\" class=\"dataframe\">\n",
       "  <thead>\n",
       "    <tr style=\"text-align: right;\">\n",
       "      <th></th>\n",
       "      <th>ISO-alpha2 Code</th>\n",
       "      <th>Year</th>\n",
       "      <th>Expenses</th>\n",
       "    </tr>\n",
       "  </thead>\n",
       "  <tbody>\n",
       "    <tr>\n",
       "      <th>0</th>\n",
       "      <td>AT</td>\n",
       "      <td>1995</td>\n",
       "      <td>55.8</td>\n",
       "    </tr>\n",
       "    <tr>\n",
       "      <th>1</th>\n",
       "      <td>BE</td>\n",
       "      <td>1995</td>\n",
       "      <td>52.6</td>\n",
       "    </tr>\n",
       "    <tr>\n",
       "      <th>2</th>\n",
       "      <td>BG</td>\n",
       "      <td>1995</td>\n",
       "      <td>31.7</td>\n",
       "    </tr>\n",
       "    <tr>\n",
       "      <th>3</th>\n",
       "      <td>CH</td>\n",
       "      <td>1995</td>\n",
       "      <td>33.3</td>\n",
       "    </tr>\n",
       "    <tr>\n",
       "      <th>4</th>\n",
       "      <td>CY</td>\n",
       "      <td>1995</td>\n",
       "      <td>30.9</td>\n",
       "    </tr>\n",
       "  </tbody>\n",
       "</table>\n",
       "</div>"
      ],
      "text/plain": [
       "  ISO-alpha2 Code  Year  Expenses\n",
       "0              AT  1995      55.8\n",
       "1              BE  1995      52.6\n",
       "2              BG  1995      31.7\n",
       "3              CH  1995      33.3\n",
       "4              CY  1995      30.9"
      ]
     },
     "execution_count": 3,
     "metadata": {},
     "output_type": "execute_result"
    }
   ],
   "source": [
    "# Load COFOG\n",
    "cofog = pd.read_csv(\"data/gov_10a_exp__custom_3469207_page_tabular.tsv\", sep='\\t')\n",
    "\n",
    "cofog.iloc[:,0] = cofog.iloc[:,0].str.split(',').str[-1]\n",
    "cofog.rename(columns={cofog.columns[0]: \"ISO-alpha2 Code\"}, inplace=True)\n",
    "\n",
    "# Perform some preprocessing\n",
    "cofog = cofog.melt(id_vars=[\"ISO-alpha2 Code\"], var_name=\"Year\", value_name='Expenses')\n",
    "cofog['Year'] = cofog['Year'].astype(int)\n",
    "cofog['Expenses'] = cofog['Expenses'].astype(str).str.strip().str.extract(r'(\\d+.\\d+)').astype('float')\n",
    "\n",
    "cofog.head()"
   ]
  },
  {
   "cell_type": "code",
   "execution_count": 4,
   "metadata": {},
   "outputs": [],
   "source": [
    "cofog.loc[:,'ISO-alpha2 Code'] = cofog.loc[:,'ISO-alpha2 Code'].replace('EL', 'GR') # Replace EL with GR to align with ISO"
   ]
  },
  {
   "cell_type": "markdown",
   "metadata": {},
   "source": [
    "COFOG contains ISO-alpha2 Code while `df_speeches` has ISO-alpha3 codes. We can use the provided UNSD Methodology that contains both."
   ]
  },
  {
   "cell_type": "markdown",
   "metadata": {},
   "source": [
    "##### c) Load dataset containing all names of countries and codes"
   ]
  },
  {
   "cell_type": "code",
   "execution_count": 5,
   "metadata": {},
   "outputs": [
    {
     "data": {
      "text/html": [
       "<div>\n",
       "<style scoped>\n",
       "    .dataframe tbody tr th:only-of-type {\n",
       "        vertical-align: middle;\n",
       "    }\n",
       "\n",
       "    .dataframe tbody tr th {\n",
       "        vertical-align: top;\n",
       "    }\n",
       "\n",
       "    .dataframe thead th {\n",
       "        text-align: right;\n",
       "    }\n",
       "</style>\n",
       "<table border=\"1\" class=\"dataframe\">\n",
       "  <thead>\n",
       "    <tr style=\"text-align: right;\">\n",
       "      <th></th>\n",
       "      <th>ISO-alpha3 Code</th>\n",
       "      <th>ISO-alpha2 Code</th>\n",
       "      <th>Expenses</th>\n",
       "      <th>Country or Area</th>\n",
       "      <th>Year</th>\n",
       "      <th>Region Name</th>\n",
       "      <th>Sub-region Name</th>\n",
       "    </tr>\n",
       "  </thead>\n",
       "  <tbody>\n",
       "    <tr>\n",
       "      <th>0</th>\n",
       "      <td>AUT</td>\n",
       "      <td>AT</td>\n",
       "      <td>55.8</td>\n",
       "      <td>Austria</td>\n",
       "      <td>1995</td>\n",
       "      <td>Europe</td>\n",
       "      <td>Western Europe</td>\n",
       "    </tr>\n",
       "    <tr>\n",
       "      <th>1</th>\n",
       "      <td>AUT</td>\n",
       "      <td>AT</td>\n",
       "      <td>55.6</td>\n",
       "      <td>Austria</td>\n",
       "      <td>1996</td>\n",
       "      <td>Europe</td>\n",
       "      <td>Western Europe</td>\n",
       "    </tr>\n",
       "    <tr>\n",
       "      <th>2</th>\n",
       "      <td>AUT</td>\n",
       "      <td>AT</td>\n",
       "      <td>52.3</td>\n",
       "      <td>Austria</td>\n",
       "      <td>1997</td>\n",
       "      <td>Europe</td>\n",
       "      <td>Western Europe</td>\n",
       "    </tr>\n",
       "    <tr>\n",
       "      <th>3</th>\n",
       "      <td>AUT</td>\n",
       "      <td>AT</td>\n",
       "      <td>52.2</td>\n",
       "      <td>Austria</td>\n",
       "      <td>1998</td>\n",
       "      <td>Europe</td>\n",
       "      <td>Western Europe</td>\n",
       "    </tr>\n",
       "    <tr>\n",
       "      <th>4</th>\n",
       "      <td>AUT</td>\n",
       "      <td>AT</td>\n",
       "      <td>52.1</td>\n",
       "      <td>Austria</td>\n",
       "      <td>1999</td>\n",
       "      <td>Europe</td>\n",
       "      <td>Western Europe</td>\n",
       "    </tr>\n",
       "  </tbody>\n",
       "</table>\n",
       "</div>"
      ],
      "text/plain": [
       "  ISO-alpha3 Code ISO-alpha2 Code  Expenses Country or Area  Year Region Name  \\\n",
       "0             AUT              AT      55.8         Austria  1995      Europe   \n",
       "1             AUT              AT      55.6         Austria  1996      Europe   \n",
       "2             AUT              AT      52.3         Austria  1997      Europe   \n",
       "3             AUT              AT      52.2         Austria  1998      Europe   \n",
       "4             AUT              AT      52.1         Austria  1999      Europe   \n",
       "\n",
       "  Sub-region Name  \n",
       "0  Western Europe  \n",
       "1  Western Europe  \n",
       "2  Western Europe  \n",
       "3  Western Europe  \n",
       "4  Western Europe  "
      ]
     },
     "execution_count": 5,
     "metadata": {},
     "output_type": "execute_result"
    }
   ],
   "source": [
    "df_codes = pd.read_csv(\"data/UNSD — Methodology.csv\", delimiter=';')\n",
    "\n",
    "df_un_merged = cofog.merge(df_codes, how='inner') # Df goes from 832 -> 754, but not sure  why!?\n",
    "df_un_merged = df_un_merged[[\"ISO-alpha3 Code\", \"ISO-alpha2 Code\", \"Expenses\", \"Country or Area\", \"Year\", \"Region Name\", \"Sub-region Name\"]]\n",
    "\n",
    "df_un_merged.head()"
   ]
  },
  {
   "cell_type": "markdown",
   "metadata": {},
   "source": [
    "##### e) Merge datasets\n",
    "Now we have a COFOG dataframe and a speeches which can be merged with the corresponding `ISO-alpha3` codes and the specific year. We also remove non-European countries."
   ]
  },
  {
   "cell_type": "code",
   "execution_count": 6,
   "metadata": {},
   "outputs": [
    {
     "data": {
      "text/html": [
       "<div>\n",
       "<style scoped>\n",
       "    .dataframe tbody tr th:only-of-type {\n",
       "        vertical-align: middle;\n",
       "    }\n",
       "\n",
       "    .dataframe tbody tr th {\n",
       "        vertical-align: top;\n",
       "    }\n",
       "\n",
       "    .dataframe thead th {\n",
       "        text-align: right;\n",
       "    }\n",
       "</style>\n",
       "<table border=\"1\" class=\"dataframe\">\n",
       "  <thead>\n",
       "    <tr style=\"text-align: right;\">\n",
       "      <th></th>\n",
       "      <th>Session</th>\n",
       "      <th>Year</th>\n",
       "      <th>ISO-alpha3 Code</th>\n",
       "      <th>Speech</th>\n",
       "      <th>ISO-alpha2 Code</th>\n",
       "      <th>Expenses</th>\n",
       "      <th>Country or Area</th>\n",
       "      <th>Region Name</th>\n",
       "      <th>Sub-region Name</th>\n",
       "    </tr>\n",
       "  </thead>\n",
       "  <tbody>\n",
       "    <tr>\n",
       "      <th>0</th>\n",
       "      <td>50</td>\n",
       "      <td>1995</td>\n",
       "      <td>FRA</td>\n",
       "      <td>Mr. President, I should like to say first how\\...</td>\n",
       "      <td>FR</td>\n",
       "      <td>54.8</td>\n",
       "      <td>France</td>\n",
       "      <td>Europe</td>\n",
       "      <td>Western Europe</td>\n",
       "    </tr>\n",
       "    <tr>\n",
       "      <th>1</th>\n",
       "      <td>50</td>\n",
       "      <td>1995</td>\n",
       "      <td>IRL</td>\n",
       "      <td>I warmly congratulate the\\nPresident on his el...</td>\n",
       "      <td>IE</td>\n",
       "      <td>40.4</td>\n",
       "      <td>Ireland</td>\n",
       "      <td>Europe</td>\n",
       "      <td>Northern Europe</td>\n",
       "    </tr>\n",
       "    <tr>\n",
       "      <th>2</th>\n",
       "      <td>50</td>\n",
       "      <td>1995</td>\n",
       "      <td>BEL</td>\n",
       "      <td>“[Today more then ever we should realize that\\...</td>\n",
       "      <td>BE</td>\n",
       "      <td>52.6</td>\n",
       "      <td>Belgium</td>\n",
       "      <td>Europe</td>\n",
       "      <td>Western Europe</td>\n",
       "    </tr>\n",
       "    <tr>\n",
       "      <th>3</th>\n",
       "      <td>50</td>\n",
       "      <td>1995</td>\n",
       "      <td>ISL</td>\n",
       "      <td>Mr. President, may I\\ncongratulate you on your...</td>\n",
       "      <td>IS</td>\n",
       "      <td>NaN</td>\n",
       "      <td>Iceland</td>\n",
       "      <td>Europe</td>\n",
       "      <td>Northern Europe</td>\n",
       "    </tr>\n",
       "    <tr>\n",
       "      <th>4</th>\n",
       "      <td>50</td>\n",
       "      <td>1995</td>\n",
       "      <td>HUN</td>\n",
       "      <td>May I extend our\\ncongratulations to you, Sir,...</td>\n",
       "      <td>HU</td>\n",
       "      <td>55.2</td>\n",
       "      <td>Hungary</td>\n",
       "      <td>Europe</td>\n",
       "      <td>Eastern Europe</td>\n",
       "    </tr>\n",
       "  </tbody>\n",
       "</table>\n",
       "</div>"
      ],
      "text/plain": [
       "   Session  Year ISO-alpha3 Code  \\\n",
       "0       50  1995             FRA   \n",
       "1       50  1995             IRL   \n",
       "2       50  1995             BEL   \n",
       "3       50  1995             ISL   \n",
       "4       50  1995             HUN   \n",
       "\n",
       "                                              Speech ISO-alpha2 Code  \\\n",
       "0  Mr. President, I should like to say first how\\...              FR   \n",
       "1  I warmly congratulate the\\nPresident on his el...              IE   \n",
       "2  “[Today more then ever we should realize that\\...              BE   \n",
       "3  Mr. President, may I\\ncongratulate you on your...              IS   \n",
       "4  May I extend our\\ncongratulations to you, Sir,...              HU   \n",
       "\n",
       "   Expenses Country or Area Region Name  Sub-region Name  \n",
       "0      54.8          France      Europe   Western Europe  \n",
       "1      40.4         Ireland      Europe  Northern Europe  \n",
       "2      52.6         Belgium      Europe   Western Europe  \n",
       "3       NaN         Iceland      Europe  Northern Europe  \n",
       "4      55.2         Hungary      Europe   Eastern Europe  "
      ]
     },
     "execution_count": 6,
     "metadata": {},
     "output_type": "execute_result"
    }
   ],
   "source": [
    "df_final = df_speech.merge(df_un_merged, how='inner', on=['Year', 'ISO-alpha3 Code'])\n",
    "df_final.head()"
   ]
  },
  {
   "cell_type": "markdown",
   "metadata": {},
   "source": [
    "##### f) Clean the `Speech` column\n",
    "\n",
    "In the cleaning, the speeches are tokenized and stopwords and interpunction are removed."
   ]
  },
  {
   "cell_type": "code",
   "execution_count": 7,
   "metadata": {},
   "outputs": [],
   "source": [
    "# Copy speech to new column 'Text\"\n",
    "df_final['Text'] = df_final.loc[:,'Speech'].copy()"
   ]
  },
  {
   "cell_type": "code",
   "execution_count": 8,
   "metadata": {},
   "outputs": [
    {
     "data": {
      "text/plain": [
       "['may',\n",
       " 'extend',\n",
       " 'congratulations',\n",
       " 'sir',\n",
       " 'upon',\n",
       " 'election',\n",
       " 'president',\n",
       " 'general',\n",
       " 'assembly',\n",
       " 'historic']"
      ]
     },
     "execution_count": 8,
     "metadata": {},
     "output_type": "execute_result"
    }
   ],
   "source": [
    "from nltk import word_tokenize\n",
    "from nltk.corpus import stopwords\n",
    "\n",
    "def preprocess(words):\n",
    "    \"\"\"\n",
    "    Returns list with words without stopwords and interpunction\n",
    "    \"\"\"\n",
    "    sw = stopwords.words(\"english\") # Experiment with not removing SW\n",
    "    clean = []\n",
    "    for w in words:\n",
    "        w = str.lower(w)\n",
    "        if (w.isalpha()) and (w not in sw):\n",
    "            clean.append(w)\n",
    "\n",
    "    return clean\n",
    "\n",
    "# ! Warning, cell takes longer: about 40 seconds\n",
    "df_final.loc[:,'Text'] = df_final.loc[:,'Text'].apply(word_tokenize)\n",
    "df_final.loc[:,'Text'] = df_final.loc[:,'Text'].apply(preprocess)\n",
    "\n",
    "df_final['Text'].values[4][0:10]"
   ]
  },
  {
   "cell_type": "markdown",
   "metadata": {},
   "source": [
    "##### g) Quantify the attention for the topic of climate change by  the Member States.\n",
    "\n",
    "Approach: \n",
    "1. We use a labeled dataset which is downloaded from https://www.sustainablefinance.uzh.ch/en/research/climate-fever.html and is based on this paper\n",
    "https://arxiv.org/abs/2012.00614.\n",
    "2. We extract the labeled claims and create a list of climate related words.\n",
    "3. We compare the climate-related words to the words in the speeches and count those.\n"
   ]
  },
  {
   "cell_type": "code",
   "execution_count": 9,
   "metadata": {},
   "outputs": [
    {
     "data": {
      "text/html": [
       "<div>\n",
       "<style scoped>\n",
       "    .dataframe tbody tr th:only-of-type {\n",
       "        vertical-align: middle;\n",
       "    }\n",
       "\n",
       "    .dataframe tbody tr th {\n",
       "        vertical-align: top;\n",
       "    }\n",
       "\n",
       "    .dataframe thead th {\n",
       "        text-align: right;\n",
       "    }\n",
       "</style>\n",
       "<table border=\"1\" class=\"dataframe\">\n",
       "  <thead>\n",
       "    <tr style=\"text-align: right;\">\n",
       "      <th></th>\n",
       "      <th>claim_id</th>\n",
       "      <th>claim</th>\n",
       "      <th>claim_label</th>\n",
       "      <th>evidences</th>\n",
       "    </tr>\n",
       "  </thead>\n",
       "  <tbody>\n",
       "    <tr>\n",
       "      <th>0</th>\n",
       "      <td>0</td>\n",
       "      <td>Global warming is driving polar bears toward e...</td>\n",
       "      <td>SUPPORTS</td>\n",
       "      <td>[{'evidence_id': 'Extinction risk from global ...</td>\n",
       "    </tr>\n",
       "    <tr>\n",
       "      <th>1</th>\n",
       "      <td>5</td>\n",
       "      <td>The sun has gone into ‘lockdown’ which could c...</td>\n",
       "      <td>SUPPORTS</td>\n",
       "      <td>[{'evidence_id': 'Famine:386', 'evidence_label...</td>\n",
       "    </tr>\n",
       "    <tr>\n",
       "      <th>2</th>\n",
       "      <td>6</td>\n",
       "      <td>The polar bear population has been growing.</td>\n",
       "      <td>REFUTES</td>\n",
       "      <td>[{'evidence_id': 'Polar bear:1332', 'evidence_...</td>\n",
       "    </tr>\n",
       "    <tr>\n",
       "      <th>3</th>\n",
       "      <td>9</td>\n",
       "      <td>Ironic' study finds more CO2 has slightly cool...</td>\n",
       "      <td>REFUTES</td>\n",
       "      <td>[{'evidence_id': 'Atmosphere of Mars:131', 'ev...</td>\n",
       "    </tr>\n",
       "    <tr>\n",
       "      <th>4</th>\n",
       "      <td>10</td>\n",
       "      <td>Human additions of CO2 are in the margin of er...</td>\n",
       "      <td>REFUTES</td>\n",
       "      <td>[{'evidence_id': 'Carbon dioxide in Earth's at...</td>\n",
       "    </tr>\n",
       "  </tbody>\n",
       "</table>\n",
       "</div>"
      ],
      "text/plain": [
       "   claim_id                                              claim claim_label  \\\n",
       "0         0  Global warming is driving polar bears toward e...    SUPPORTS   \n",
       "1         5  The sun has gone into ‘lockdown’ which could c...    SUPPORTS   \n",
       "2         6        The polar bear population has been growing.     REFUTES   \n",
       "3         9  Ironic' study finds more CO2 has slightly cool...     REFUTES   \n",
       "4        10  Human additions of CO2 are in the margin of er...     REFUTES   \n",
       "\n",
       "                                           evidences  \n",
       "0  [{'evidence_id': 'Extinction risk from global ...  \n",
       "1  [{'evidence_id': 'Famine:386', 'evidence_label...  \n",
       "2  [{'evidence_id': 'Polar bear:1332', 'evidence_...  \n",
       "3  [{'evidence_id': 'Atmosphere of Mars:131', 'ev...  \n",
       "4  [{'evidence_id': 'Carbon dioxide in Earth's at...  "
      ]
     },
     "execution_count": 9,
     "metadata": {},
     "output_type": "execute_result"
    }
   ],
   "source": [
    "# Loading the labeled dataset\n",
    "climate = pd.read_json('data/climate-fever-dataset-r1.jsonl', lines=True)\n",
    "\n",
    "# Retrieve the values and remove the uncertain ones\n",
    "climate = climate[(climate.claim_label != 'DISPUTED') & (climate.claim_label != 'NOT_ENOUGH_INFO')]\n",
    "\n",
    "climate.head()"
   ]
  },
  {
   "cell_type": "code",
   "execution_count": 10,
   "metadata": {},
   "outputs": [],
   "source": [
    "# Extract evidences/evidence instead of claim\n",
    "evidences = [i for i in climate.evidences.values]\n",
    "\n",
    "res = [] \n",
    "\n",
    "for i in evidences:\n",
    "    evi = dict(i[0])\n",
    "    for key, value in evi.items():\n",
    "        if key == 'evidence_id':\n",
    "            res.append(value.split(':')[0])\n",
    "\n",
    "res = ' '.join([i for i in set(res)])"
   ]
  },
  {
   "cell_type": "code",
   "execution_count": 11,
   "metadata": {},
   "outputs": [
    {
     "name": "stdout",
     "output_type": "stream",
     "text": [
      "683\n"
     ]
    }
   ],
   "source": [
    "# Extract claims and clean\n",
    "#claims = ' '.join([i for i in set(climate.claim.values)])\n",
    "climate_words = word_tokenize(res)\n",
    "climate_words = preprocess(climate_words)\n",
    "\n",
    "print(len(climate_words)) # 683"
   ]
  },
  {
   "cell_type": "markdown",
   "metadata": {},
   "source": [
    "Custom list of climate change related words consists out of 757 words."
   ]
  },
  {
   "cell_type": "markdown",
   "metadata": {},
   "source": [
    "Count the occurences of climate related words in the speeches "
   ]
  },
  {
   "cell_type": "code",
   "execution_count": 12,
   "metadata": {},
   "outputs": [],
   "source": [
    "custom = ['election', 'general', 'united', 'nations', 'france', 'election','european', 'state', 'government', 'agreement', 'great', 'el', 'since']\n",
    "def count_occurrences(words):\n",
    "    counts = {}\n",
    "    count = 0\n",
    "    for word in climate_words:\n",
    "        if (word in words) and (word not in custom):\n",
    "            if word in counts.keys():\n",
    "                counts[word] += 1\n",
    "            else:\n",
    "                counts[word] = 1\n",
    "    total = sum(counts.values())\n",
    "    return total\n",
    "\n",
    "# Warning, cell takes long: over 1m\n",
    "df_final['Count'] = df_final['Text'].apply(count_occurrences)"
   ]
  },
  {
   "cell_type": "code",
   "execution_count": 13,
   "metadata": {},
   "outputs": [
    {
     "data": {
      "text/plain": [
       "array([135, 157,  92, 159,  90, 117, 122, 119,  77,  90])"
      ]
     },
     "execution_count": 13,
     "metadata": {},
     "output_type": "execute_result"
    }
   ],
   "source": [
    "df_final['Count'][:10].values"
   ]
  },
  {
   "cell_type": "markdown",
   "metadata": {},
   "source": [
    "##### h) Handle missing values"
   ]
  },
  {
   "cell_type": "code",
   "execution_count": 14,
   "metadata": {},
   "outputs": [
    {
     "data": {
      "text/plain": [
       "Session            0\n",
       "Year               0\n",
       "ISO-alpha3 Code    0\n",
       "Speech             0\n",
       "ISO-alpha2 Code    0\n",
       "Expenses           3\n",
       "Country or Area    0\n",
       "Region Name        0\n",
       "Sub-region Name    0\n",
       "Text               0\n",
       "Count              0\n",
       "dtype: int64"
      ]
     },
     "execution_count": 14,
     "metadata": {},
     "output_type": "execute_result"
    }
   ],
   "source": [
    "df_final.isna().sum()"
   ]
  },
  {
   "cell_type": "code",
   "execution_count": 15,
   "metadata": {},
   "outputs": [
    {
     "data": {
      "text/plain": [
       "array([54.8, 40.4, 52.6,  nan, 55.2, 46. , 41.4, 47.9, 31.7, 42.6, 30.9,\n",
       "       55.8, 58.5, 63. , 50.7, 39.7, 61.1, 55.1, 34.6, 53.1, 53.7, 51.6,\n",
       "       35.6, 48.4, 38.9, 52. , 34.3, 44.1, 53.2, 53.1, 54.9, 38.6, 41.7,\n",
       "        nan, 51.1, 45.1, 32.9, 55.6, 51.1, 36.8, 43.1, 61. , 48.3, 38.9,\n",
       "       58. , 59.5, 49.4, 45.1, 36.6, 51.5, 35.4, 53.3, 47. , 50.1, 33.2,\n",
       "       41.4, 42.8, 41.7, 45.5, 48.7, 35.1, 49.5, 50.3, 45.4, 48.6, 56.1,\n",
       "       41.6, 41.5, 41.5, 34.6, 48.8, 43.7,  nan, 49.6, 41.5, 54.5, 36.1,\n",
       "       51.6, 55.9, 36.7, 46.6, 58.7, 42.5, 31.8, 47. , 52.3, 34.2, 42.7,\n",
       "       33.9, 45.1, 52.2, 34.2, 55.4, 39.1, 48.9, 56.4, 52.9, 34.2, 51. ,\n",
       "       45.1, 40.9, 50.8, 41.9, 41.2, 35.6, 50.8, 41.9, 40.9, 46.2, 41.2,\n",
       "       48.1, 52.3, 44.3, 45.9, 38. , 48.2, 46.2, 49. , 45.4, 40.2, 32.5,\n",
       "       52.6, 50.5, 54.5, 56. , 47.5, 40.1, 43.3, 41.4, 42.6, 52.1, 34.1,\n",
       "       43.4, 40.8, 47.2, 48. , 51. , 48.2, 47. , 40.8, 39.9, 41.2, 41.5,\n",
       "       52.7, 39.3, 52.7, 36.4, 42.4, 53.1, 42.7, 43. , 43. , 51. , 34.4,\n",
       "       46.4, 44.8, 47.3, 38. , 51.7, 30.6, 49.4, 40.8, 39.1, 40.1, 38.5,\n",
       "       49.3, 42.1, 52.8, 37.1, 46.5, 39.4, 47.5, 47.8, 47.9, 49.4, 36.3,\n",
       "       41.5, 38.4, 43.3, 47.3, 47.4, 48.7, 37.1, 47.3, 34.7, 45.3, 42.8,\n",
       "       35.3, 51.4, 44.8, 40.6, 44.1, 52.5, 44.2, 35. , 52.8, 49.4, 51.7,\n",
       "       32.2, 38.1, 47.4, 47.3, 46. , 41.4, 50.3, 34.9, 38.6, 44.7, 48.5,\n",
       "       47.9, 35.2, 47.3, 35. , 43.4, 46.7, 35. , 45.4, 45.2, 39.1, 43.7,\n",
       "       37. , 51.1, 53.2, 53.6, 47.2, 35.9, 52.8, 32.9, 49.9, 45.5, 51. ,\n",
       "       45.8, 41.8, 32.7, 53.3, 51. , 46.6, 49.1, 47.8, 43.3, 38.6, 45.4,\n",
       "       45.6, 51.3, 40.5, 53.6, 48.3, 35. , 53.8, 48.3, 47.2, 33.6, 49.3,\n",
       "       34.1, 44.5, 40.4, 33.8, 47.2, 44.9, 34.3, 49.6, 38.4, 49.1, 46.7,\n",
       "       48.7, 47.6, 43.7, 53. , 32.8, 49.3, 53. , 52.5, 34.1, 45.4, 43.5,\n",
       "       46.2, 37.8, 38.5, 53.7, 43.4, 46.9, 35.1, 37.9, 49.1, 46.6, 34.1,\n",
       "       46.8, 33.8, 42.3, 38.8, 41.9, 48.6, 33.8, 44.2, 36.7, 46.8, 39.3,\n",
       "       51.2, 51.2, 52.3, 42.5, 33.7, 53.3, 33. , 51.9, 45. , 49.3, 45.6,\n",
       "       43.4, 42.4, 46.5, 33.5, 38.5, 42.4, 49. , 46.8, 46.4, 34.1, 33.1,\n",
       "       42.3, 47.2, 34.8, 39.7, 38.7, 50.4, 44.5, 33.7, 45.2, 51.1, 41.2,\n",
       "       33.4, 49.8, 48.8, 52.9, 33.6, 39.4, 44.8, 51.3, 45.1, 46.2, 35.6,\n",
       "       42.2, 38.4, 41.5, 31.2, 48.1, 45.2, 34.3, 45.5, 47.8, 36.5, 38.8,\n",
       "       43.1, 40.4, 39.3, 40.9, 37.5, 45.8, 42.5, 36.4, 34.5, 46.8, 43.4,\n",
       "       35.3, 43.4, 46.6, 30.1, 49.6, 33.7, 41.7, 49.3, 44.5, 37.7, 42.9,\n",
       "       49.2, 37.6, 47.1, 44.7, 49.8, 37.4, 52.6, 35.6, 48.6, 53.3, 41.6,\n",
       "       50.8, 50.8, 63.4, 48.7, 37.9, 45.3, 37.1, 44.2, 49.9, 38.4, 50.4,\n",
       "       39.5, 40.6, 50. , 38.1, 45.1, 44.2, 47.9, 30.6, 43.2, 37. , 38.3,\n",
       "       47.8, 42.1, 37.6, 45.9, 40.9, 41.4, 56.5, 52.4, 46.5, 45.9, 45. ,\n",
       "       39.3, 50.2, 54.1, 42.1, 54.1, 50.5, 53.6, 42.7, 46.9, 57.2, 54.7,\n",
       "       46.2, 44.4, 41.1, 48.9, 39.4, 47.7, 45.1, 51.1, 44.4, 54.1, 48.2,\n",
       "       45. , 49.4, 32.5, 32.1, 50.2, 42.4, 48.1, 53.9, 42.3, 49.9, 45.8,\n",
       "       47.9, 40. , 48.5, 40.1, 43.6, 46. , 53.9, 56.9, 64.9, 42. , 48.8,\n",
       "       48.8, 53. , 41.8, 52.8, 51.9, 36.1, 45.8, 40.3, 45.4, 50.4, 56.7,\n",
       "       55.1, 50.5, 49. , 41.5, 56.3, 47.3, 55.3, 56.4, 49.8, 44.2, 37.4,\n",
       "       44.1, 33.7, 50. , 50.9, 42.2, 46.8, 42.3, 49.2, 41.5, 53.7, 45.2,\n",
       "       42.5, 50.9, 32.1, 46.2, 43.2, 41.9, 48.9, 39.6, 41.8, 56.7, 47.7,\n",
       "       49.1, 56.5, 57.1, 42.5, 51. , 43.3, 39.2, 58. , 51.2, 42.2, 43.1,\n",
       "       34.3, 48.9, 38.8, 50.6, 41.3, 46.9, 32.4, 55.4, 44.9, 49.4, 36.2,\n",
       "       48.7, 44.7, 48.4, 37.6, 42.1, 45.8, 42.7, 35.6, 48.3, 40.8, 42.6,\n",
       "       51. , 38.5, 46.6, 33.3, 44.9, 35.6, 60.3, 56.8, 44.4, 38.4, 51.6,\n",
       "       55.8, 43. , 51.6, 37.8, 49.9, 43. , 41.2, 50. , 46. , 62.8, 56.1,\n",
       "       40.6, 57.2, 48.7, 35.4, 40.2, 42.6, 45.1, 32.9, 57.3, 34.7, 50.8,\n",
       "       44.3, 38.9, 50.9, 43.4, 45.9, 52.4, 49.4, 42.6, 51.7, 43.2, 50.7,\n",
       "       37.8, 46.3, 55.2, 55.6, 57.2, 37.6, 40.6, 50.7, 45.8, 50. , 40.4,\n",
       "       54.1, 50.4, 43.5, 53.7, 29.1, 56.8, 49.3, 39.5, 49.3, 54.5, 51.1,\n",
       "       40.6, 40.4, 48.2, 41.7, 45.7, 38.6, 50.3, 44.7, 33.2, 44.1, 48.7,\n",
       "       35.2, 56.5, 43.9, 41.9, 36.1, 48.2, 38.5, 49.9, 46.8, 46.4, 40. ,\n",
       "       28.1, 56.7, 53.1, 52.5, 51.5, 39.4, 49.7, 34.8, 44.8, 41.1, 50.1,\n",
       "       37.5, 43.6, 42.7, 37.4, 49.1, 44.4, 34.2, 46.2, 55.6, 33.3, 42.4,\n",
       "       39.8, 36.4, 34.6, 46.9, 33.3, 53.6, 44.1, 33.2, 44.2, 48.8, 38.7,\n",
       "       39.6, 42.4, 44.7, 33.5, 34.4, 39. , 41.2, 52. , 26.2, 56.5, 41.3,\n",
       "       46.7, 44.4, 48.5, 36.5, 49.3, 41.3, 45.4, 34.8, 49.2, 39.2, 50.5,\n",
       "       50.5, 49.8, 39.4, 48.8, 50.5, 42.7, 48.7, 41.5, 43.2, 36.9, 42.1,\n",
       "       46.1, 43.8, 48.5, 52.2, 25.3, 55.6, 40.6, 41.7, 45.5, 34.8, 35.7,\n",
       "       48.4, 39.3, 39.8, 42.2, 32.5, 53.3, 34. , 43.5, 44.3, 51.8, 55.4,\n",
       "       24.2, 42.9, 43.3, 45.7, 47.9, 38.4, 48.6, 35.5, 42.5, 41.8, 51.6,\n",
       "       39.4, 49.1, 49.5, 32.8, 45. , 34.8, 43.3, 53.3, 40.7, 48.5, 38.2,\n",
       "       42. , 36.2, 46. , 36. , 42.1, 41.1, 50.5, 51.6, 59.8, 47.2, 61.6,\n",
       "       27.4, 59.2, 53.4, 58.5, 45.9, 52.1, 41.8, 48.7, 45.1, 57.1, 48. ,\n",
       "       45.6, 57.1, 43.1, 50.8, 51.3, 42.9, 57.5, 37.8, 52.4, 47.2, 45.9,\n",
       "       42. , 54.5])"
      ]
     },
     "execution_count": 15,
     "metadata": {},
     "output_type": "execute_result"
    }
   ],
   "source": [
    "df_final[\"Expenses\"].values"
   ]
  },
  {
   "cell_type": "markdown",
   "metadata": {},
   "source": [
    "Method of mean imputation: fill using country mean"
   ]
  },
  {
   "cell_type": "code",
   "execution_count": 16,
   "metadata": {},
   "outputs": [
    {
     "data": {
      "text/html": [
       "<div>\n",
       "<style scoped>\n",
       "    .dataframe tbody tr th:only-of-type {\n",
       "        vertical-align: middle;\n",
       "    }\n",
       "\n",
       "    .dataframe tbody tr th {\n",
       "        vertical-align: top;\n",
       "    }\n",
       "\n",
       "    .dataframe thead th {\n",
       "        text-align: right;\n",
       "    }\n",
       "</style>\n",
       "<table border=\"1\" class=\"dataframe\">\n",
       "  <thead>\n",
       "    <tr style=\"text-align: right;\">\n",
       "      <th></th>\n",
       "      <th>Country or Area</th>\n",
       "      <th>Expenses</th>\n",
       "    </tr>\n",
       "  </thead>\n",
       "  <tbody>\n",
       "    <tr>\n",
       "      <th>0</th>\n",
       "      <td>France</td>\n",
       "      <td>55.0</td>\n",
       "    </tr>\n",
       "    <tr>\n",
       "      <th>1</th>\n",
       "      <td>Ireland</td>\n",
       "      <td>35.7</td>\n",
       "    </tr>\n",
       "    <tr>\n",
       "      <th>2</th>\n",
       "      <td>Belgium</td>\n",
       "      <td>52.4</td>\n",
       "    </tr>\n",
       "    <tr>\n",
       "      <th>3</th>\n",
       "      <td>Iceland</td>\n",
       "      <td>47.0</td>\n",
       "    </tr>\n",
       "    <tr>\n",
       "      <th>4</th>\n",
       "      <td>Hungary</td>\n",
       "      <td>49.3</td>\n",
       "    </tr>\n",
       "  </tbody>\n",
       "</table>\n",
       "</div>"
      ],
      "text/plain": [
       "  Country or Area  Expenses\n",
       "0          France      55.0\n",
       "1         Ireland      35.7\n",
       "2         Belgium      52.4\n",
       "3         Iceland      47.0\n",
       "4         Hungary      49.3"
      ]
     },
     "execution_count": 16,
     "metadata": {},
     "output_type": "execute_result"
    }
   ],
   "source": [
    "country_grouped = df_final.groupby(['Country or Area'], as_index=False, sort=False)[['Expenses']].mean()\n",
    "country_grouped[\"Expenses\"] = country_grouped[\"Expenses\"].round(1)\n",
    "country_grouped.head()"
   ]
  },
  {
   "cell_type": "code",
   "execution_count": 17,
   "metadata": {},
   "outputs": [
    {
     "name": "stdout",
     "output_type": "stream",
     "text": [
      "Missing value for Iceland at index 3 \n",
      "\n",
      "Missing value for Iceland at index 33 \n",
      "\n",
      "Missing value for Iceland at index 72 \n",
      "\n"
     ]
    }
   ],
   "source": [
    "for i in np.where(df_final['Expenses'].isnull())[0]: \n",
    "    print(\"Missing value for\", df_final.iloc[i, 6], \"at index\", i ,\"\\n\")"
   ]
  },
  {
   "cell_type": "code",
   "execution_count": 18,
   "metadata": {},
   "outputs": [],
   "source": [
    "df_final = df_final.fillna(country_grouped.loc[df_final['Country or Area'] == \"Iceland\"][['Expenses']])"
   ]
  },
  {
   "cell_type": "code",
   "execution_count": 19,
   "metadata": {},
   "outputs": [
    {
     "data": {
      "text/html": [
       "<div>\n",
       "<style scoped>\n",
       "    .dataframe tbody tr th:only-of-type {\n",
       "        vertical-align: middle;\n",
       "    }\n",
       "\n",
       "    .dataframe tbody tr th {\n",
       "        vertical-align: top;\n",
       "    }\n",
       "\n",
       "    .dataframe thead th {\n",
       "        text-align: right;\n",
       "    }\n",
       "</style>\n",
       "<table border=\"1\" class=\"dataframe\">\n",
       "  <thead>\n",
       "    <tr style=\"text-align: right;\">\n",
       "      <th></th>\n",
       "      <th>Session</th>\n",
       "      <th>Year</th>\n",
       "      <th>ISO-alpha3 Code</th>\n",
       "      <th>Speech</th>\n",
       "      <th>ISO-alpha2 Code</th>\n",
       "      <th>Expenses</th>\n",
       "      <th>Country or Area</th>\n",
       "      <th>Region Name</th>\n",
       "      <th>Sub-region Name</th>\n",
       "      <th>Text</th>\n",
       "      <th>Count</th>\n",
       "    </tr>\n",
       "  </thead>\n",
       "  <tbody>\n",
       "    <tr>\n",
       "      <th>0</th>\n",
       "      <td>50</td>\n",
       "      <td>1995</td>\n",
       "      <td>FRA</td>\n",
       "      <td>Mr. President, I should like to say first how\\...</td>\n",
       "      <td>FR</td>\n",
       "      <td>54.8</td>\n",
       "      <td>France</td>\n",
       "      <td>Europe</td>\n",
       "      <td>Western Europe</td>\n",
       "      <td>[president, like, say, first, pleased, france,...</td>\n",
       "      <td>135</td>\n",
       "    </tr>\n",
       "    <tr>\n",
       "      <th>1</th>\n",
       "      <td>50</td>\n",
       "      <td>1995</td>\n",
       "      <td>IRL</td>\n",
       "      <td>I warmly congratulate the\\nPresident on his el...</td>\n",
       "      <td>IE</td>\n",
       "      <td>40.4</td>\n",
       "      <td>Ireland</td>\n",
       "      <td>Europe</td>\n",
       "      <td>Northern Europe</td>\n",
       "      <td>[warmly, congratulate, president, election, pr...</td>\n",
       "      <td>157</td>\n",
       "    </tr>\n",
       "    <tr>\n",
       "      <th>2</th>\n",
       "      <td>50</td>\n",
       "      <td>1995</td>\n",
       "      <td>BEL</td>\n",
       "      <td>“[Today more then ever we should realize that\\...</td>\n",
       "      <td>BE</td>\n",
       "      <td>52.6</td>\n",
       "      <td>Belgium</td>\n",
       "      <td>Europe</td>\n",
       "      <td>Western Europe</td>\n",
       "      <td>[today, ever, realize, delegations, many, coun...</td>\n",
       "      <td>92</td>\n",
       "    </tr>\n",
       "    <tr>\n",
       "      <th>3</th>\n",
       "      <td>50</td>\n",
       "      <td>1995</td>\n",
       "      <td>ISL</td>\n",
       "      <td>Mr. President, may I\\ncongratulate you on your...</td>\n",
       "      <td>IS</td>\n",
       "      <td>47.0</td>\n",
       "      <td>Iceland</td>\n",
       "      <td>Europe</td>\n",
       "      <td>Northern Europe</td>\n",
       "      <td>[president, may, congratulate, election, expre...</td>\n",
       "      <td>159</td>\n",
       "    </tr>\n",
       "    <tr>\n",
       "      <th>4</th>\n",
       "      <td>50</td>\n",
       "      <td>1995</td>\n",
       "      <td>HUN</td>\n",
       "      <td>May I extend our\\ncongratulations to you, Sir,...</td>\n",
       "      <td>HU</td>\n",
       "      <td>55.2</td>\n",
       "      <td>Hungary</td>\n",
       "      <td>Europe</td>\n",
       "      <td>Eastern Europe</td>\n",
       "      <td>[may, extend, congratulations, sir, upon, elec...</td>\n",
       "      <td>90</td>\n",
       "    </tr>\n",
       "    <tr>\n",
       "      <th>...</th>\n",
       "      <td>...</td>\n",
       "      <td>...</td>\n",
       "      <td>...</td>\n",
       "      <td>...</td>\n",
       "      <td>...</td>\n",
       "      <td>...</td>\n",
       "      <td>...</td>\n",
       "      <td>...</td>\n",
       "      <td>...</td>\n",
       "      <td>...</td>\n",
       "      <td>...</td>\n",
       "    </tr>\n",
       "    <tr>\n",
       "      <th>767</th>\n",
       "      <td>75</td>\n",
       "      <td>2020</td>\n",
       "      <td>ESP</td>\n",
       "      <td>Mr. President, Mr. Secretary-General, Ladies a...</td>\n",
       "      <td>ES</td>\n",
       "      <td>52.4</td>\n",
       "      <td>Spain</td>\n",
       "      <td>Europe</td>\n",
       "      <td>Southern Europe</td>\n",
       "      <td>[president, ladies, gentlemen, heads, state, g...</td>\n",
       "      <td>167</td>\n",
       "    </tr>\n",
       "    <tr>\n",
       "      <th>768</th>\n",
       "      <td>75</td>\n",
       "      <td>2020</td>\n",
       "      <td>CZE</td>\n",
       "      <td>Mr. President,\\nExcellencies,\\nLadies and Gent...</td>\n",
       "      <td>CZ</td>\n",
       "      <td>47.2</td>\n",
       "      <td>Czechia</td>\n",
       "      <td>Europe</td>\n",
       "      <td>Eastern Europe</td>\n",
       "      <td>[president, excellencies, ladies, gentlemen, y...</td>\n",
       "      <td>123</td>\n",
       "    </tr>\n",
       "    <tr>\n",
       "      <th>769</th>\n",
       "      <td>75</td>\n",
       "      <td>2020</td>\n",
       "      <td>MLT</td>\n",
       "      <td>Secretary General,\\nPresident of the General A...</td>\n",
       "      <td>MT</td>\n",
       "      <td>45.9</td>\n",
       "      <td>Malta</td>\n",
       "      <td>Europe</td>\n",
       "      <td>Southern Europe</td>\n",
       "      <td>[secretary, general, president, general, assem...</td>\n",
       "      <td>94</td>\n",
       "    </tr>\n",
       "    <tr>\n",
       "      <th>770</th>\n",
       "      <td>75</td>\n",
       "      <td>2020</td>\n",
       "      <td>ROU</td>\n",
       "      <td>Mr. President of the General Assembly,\\nMr. Se...</td>\n",
       "      <td>RO</td>\n",
       "      <td>42.0</td>\n",
       "      <td>Romania</td>\n",
       "      <td>Europe</td>\n",
       "      <td>Eastern Europe</td>\n",
       "      <td>[president, general, assembly, secretary, gene...</td>\n",
       "      <td>131</td>\n",
       "    </tr>\n",
       "    <tr>\n",
       "      <th>771</th>\n",
       "      <td>75</td>\n",
       "      <td>2020</td>\n",
       "      <td>HRV</td>\n",
       "      <td>Mr President, Excellencies\\nAll protocol obser...</td>\n",
       "      <td>HR</td>\n",
       "      <td>54.5</td>\n",
       "      <td>Croatia</td>\n",
       "      <td>Europe</td>\n",
       "      <td>Southern Europe</td>\n",
       "      <td>[mr, president, excellencies, protocol, observ...</td>\n",
       "      <td>164</td>\n",
       "    </tr>\n",
       "  </tbody>\n",
       "</table>\n",
       "<p>772 rows × 11 columns</p>\n",
       "</div>"
      ],
      "text/plain": [
       "     Session  Year ISO-alpha3 Code  \\\n",
       "0         50  1995             FRA   \n",
       "1         50  1995             IRL   \n",
       "2         50  1995             BEL   \n",
       "3         50  1995             ISL   \n",
       "4         50  1995             HUN   \n",
       "..       ...   ...             ...   \n",
       "767       75  2020             ESP   \n",
       "768       75  2020             CZE   \n",
       "769       75  2020             MLT   \n",
       "770       75  2020             ROU   \n",
       "771       75  2020             HRV   \n",
       "\n",
       "                                                Speech ISO-alpha2 Code  \\\n",
       "0    Mr. President, I should like to say first how\\...              FR   \n",
       "1    I warmly congratulate the\\nPresident on his el...              IE   \n",
       "2    “[Today more then ever we should realize that\\...              BE   \n",
       "3    Mr. President, may I\\ncongratulate you on your...              IS   \n",
       "4    May I extend our\\ncongratulations to you, Sir,...              HU   \n",
       "..                                                 ...             ...   \n",
       "767  Mr. President, Mr. Secretary-General, Ladies a...              ES   \n",
       "768  Mr. President,\\nExcellencies,\\nLadies and Gent...              CZ   \n",
       "769  Secretary General,\\nPresident of the General A...              MT   \n",
       "770  Mr. President of the General Assembly,\\nMr. Se...              RO   \n",
       "771  Mr President, Excellencies\\nAll protocol obser...              HR   \n",
       "\n",
       "     Expenses Country or Area Region Name  Sub-region Name  \\\n",
       "0        54.8          France      Europe   Western Europe   \n",
       "1        40.4         Ireland      Europe  Northern Europe   \n",
       "2        52.6         Belgium      Europe   Western Europe   \n",
       "3        47.0         Iceland      Europe  Northern Europe   \n",
       "4        55.2         Hungary      Europe   Eastern Europe   \n",
       "..        ...             ...         ...              ...   \n",
       "767      52.4           Spain      Europe  Southern Europe   \n",
       "768      47.2         Czechia      Europe   Eastern Europe   \n",
       "769      45.9           Malta      Europe  Southern Europe   \n",
       "770      42.0         Romania      Europe   Eastern Europe   \n",
       "771      54.5         Croatia      Europe  Southern Europe   \n",
       "\n",
       "                                                  Text  Count  \n",
       "0    [president, like, say, first, pleased, france,...    135  \n",
       "1    [warmly, congratulate, president, election, pr...    157  \n",
       "2    [today, ever, realize, delegations, many, coun...     92  \n",
       "3    [president, may, congratulate, election, expre...    159  \n",
       "4    [may, extend, congratulations, sir, upon, elec...     90  \n",
       "..                                                 ...    ...  \n",
       "767  [president, ladies, gentlemen, heads, state, g...    167  \n",
       "768  [president, excellencies, ladies, gentlemen, y...    123  \n",
       "769  [secretary, general, president, general, assem...     94  \n",
       "770  [president, general, assembly, secretary, gene...    131  \n",
       "771  [mr, president, excellencies, protocol, observ...    164  \n",
       "\n",
       "[772 rows x 11 columns]"
      ]
     },
     "execution_count": 19,
     "metadata": {},
     "output_type": "execute_result"
    }
   ],
   "source": [
    "df_final"
   ]
  },
  {
   "cell_type": "markdown",
   "metadata": {},
   "source": [
    "##### i) Exploration phase"
   ]
  },
  {
   "cell_type": "code",
   "execution_count": 20,
   "metadata": {},
   "outputs": [
    {
     "data": {
      "text/plain": [
       "Index(['Session', 'Year', 'ISO-alpha3 Code', 'Speech', 'ISO-alpha2 Code',\n",
       "       'Expenses', 'Country or Area', 'Region Name', 'Sub-region Name', 'Text',\n",
       "       'Count'],\n",
       "      dtype='object')"
      ]
     },
     "execution_count": 20,
     "metadata": {},
     "output_type": "execute_result"
    }
   ],
   "source": [
    "df_final.columns"
   ]
  },
  {
   "cell_type": "code",
   "execution_count": 21,
   "metadata": {},
   "outputs": [
    {
     "data": {
      "text/plain": [
       "<matplotlib.axes._subplots.AxesSubplot at 0x7fb1289b2fd0>"
      ]
     },
     "execution_count": 21,
     "metadata": {},
     "output_type": "execute_result"
    },
    {
     "data": {
      "image/png": "[encoded data removed]",
      "text/plain": [
       "<Figure size 432x288 with 1 Axes>"
      ]
     },
     "metadata": {
      "needs_background": "light"
     },
     "output_type": "display_data"
    }
   ],
   "source": [
    "# target value distribution\n",
    "df_final.Expenses.hist()"
   ]
  },
  {
   "cell_type": "code",
   "execution_count": 22,
   "metadata": {},
   "outputs": [],
   "source": [
    "# Might come in handy\n",
    "df_final['Decade'] = df_final['Year'].apply(lambda i: round(i, -1))"
   ]
  },
  {
   "cell_type": "markdown",
   "metadata": {},
   "source": [
    "- All EU countries expenses and climate change related word count mean, grouped by year"
   ]
  },
  {
   "cell_type": "code",
   "execution_count": 23,
   "metadata": {},
   "outputs": [
    {
     "data": {
      "text/html": [
       "<div>\n",
       "<style scoped>\n",
       "    .dataframe tbody tr th:only-of-type {\n",
       "        vertical-align: middle;\n",
       "    }\n",
       "\n",
       "    .dataframe tbody tr th {\n",
       "        vertical-align: top;\n",
       "    }\n",
       "\n",
       "    .dataframe thead th {\n",
       "        text-align: right;\n",
       "    }\n",
       "</style>\n",
       "<table border=\"1\" class=\"dataframe\">\n",
       "  <thead>\n",
       "    <tr style=\"text-align: right;\">\n",
       "      <th></th>\n",
       "      <th>Year</th>\n",
       "      <th>Expenses</th>\n",
       "      <th>Count</th>\n",
       "    </tr>\n",
       "  </thead>\n",
       "  <tbody>\n",
       "    <tr>\n",
       "      <th>0</th>\n",
       "      <td>1995</td>\n",
       "      <td>1373.9</td>\n",
       "      <td>2617</td>\n",
       "    </tr>\n",
       "    <tr>\n",
       "      <th>1</th>\n",
       "      <td>1996</td>\n",
       "      <td>1297.2</td>\n",
       "      <td>2569</td>\n",
       "    </tr>\n",
       "    <tr>\n",
       "      <th>2</th>\n",
       "      <td>1997</td>\n",
       "      <td>1269.9</td>\n",
       "      <td>2691</td>\n",
       "    </tr>\n",
       "    <tr>\n",
       "      <th>3</th>\n",
       "      <td>1998</td>\n",
       "      <td>1299.3</td>\n",
       "      <td>2721</td>\n",
       "    </tr>\n",
       "    <tr>\n",
       "      <th>4</th>\n",
       "      <td>1999</td>\n",
       "      <td>1309.0</td>\n",
       "      <td>2449</td>\n",
       "    </tr>\n",
       "  </tbody>\n",
       "</table>\n",
       "</div>"
      ],
      "text/plain": [
       "   Year  Expenses  Count\n",
       "0  1995    1373.9   2617\n",
       "1  1996    1297.2   2569\n",
       "2  1997    1269.9   2691\n",
       "3  1998    1299.3   2721\n",
       "4  1999    1309.0   2449"
      ]
     },
     "execution_count": 23,
     "metadata": {},
     "output_type": "execute_result"
    }
   ],
   "source": [
    "grouped = df_final.groupby(['Year'], as_index=False, sort=False)[['Expenses', 'Count']].sum()\n",
    "grouped.head()"
   ]
  },
  {
   "cell_type": "code",
   "execution_count": 24,
   "metadata": {},
   "outputs": [
    {
     "name": "stdout",
     "output_type": "stream",
     "text": [
      "   Year  Expenses  Count\n",
      "7  2002    1320.0   2049\n",
      "    Year  Expenses  Count\n",
      "24  2019    1287.6   4143\n"
     ]
    }
   ],
   "source": [
    "print(grouped[grouped['Count'] == min(grouped['Count'])])\n",
    "print(grouped[grouped['Count'] == max(grouped['Count'])])"
   ]
  },
  {
   "cell_type": "code",
   "execution_count": 25,
   "metadata": {},
   "outputs": [
    {
     "data": {
      "image/png": "[encoded data removed]",
      "text/plain": [
       "<Figure size 432x288 with 1 Axes>"
      ]
     },
     "metadata": {
      "needs_background": "light"
     },
     "output_type": "display_data"
    }
   ],
   "source": [
    "import matplotlib.pyplot as plt\n",
    "\n",
    "X = grouped['Year'].values\n",
    "y1 = grouped['Count'].values\n",
    "\n",
    "plt.plot(X, y1, label=\"Count\")\n",
    "plt.legend()\n",
    "plt.show()"
   ]
  },
  {
   "cell_type": "code",
   "execution_count": 26,
   "metadata": {},
   "outputs": [
    {
     "data": {
      "image/png": "[encoded data removed]",
      "text/plain": [
       "<Figure size 432x288 with 1 Axes>"
      ]
     },
     "metadata": {
      "needs_background": "light"
     },
     "output_type": "display_data"
    }
   ],
   "source": [
    "y2 = grouped['Expenses'].values\n",
    "plt.plot(X, y2, label=\"Expenses\", color='brown')\n",
    "plt.legend()\n",
    "plt.show()"
   ]
  },
  {
   "cell_type": "code",
   "execution_count": 27,
   "metadata": {},
   "outputs": [
    {
     "data": {
      "text/plain": [
       "<matplotlib.legend.Legend at 0x7fb140873880>"
      ]
     },
     "execution_count": 27,
     "metadata": {},
     "output_type": "execute_result"
    },
    {
     "data": {
      "image/png": "[encoded data removed]",
      "text/plain": [
       "<Figure size 432x288 with 1 Axes>"
      ]
     },
     "metadata": {
      "needs_background": "light"
     },
     "output_type": "display_data"
    }
   ],
   "source": [
    "X_axis = np.arange(len(X))\n",
    "  \n",
    "plt.bar(X_axis - 0.2, y1, 0.4, label = 'Climate related word count')\n",
    "plt.bar(X_axis + 0.2, y2, 0.4, label = 'Expenses')\n",
    "  \n",
    "plt.xticks(X_axis, X, rotation=90)\n",
    "plt.xlabel(\"Years\")\n",
    "plt.ylabel(\"Sum\")\n",
    "plt.title(\"Number of Counts/Expenses per Year\")\n",
    "\n",
    "plt.legend()"
   ]
  },
  {
   "cell_type": "code",
   "execution_count": 28,
   "metadata": {},
   "outputs": [
    {
     "data": {
      "text/plain": [
       "<matplotlib.collections.PathCollection at 0x7fb12881e190>"
      ]
     },
     "execution_count": 28,
     "metadata": {},
     "output_type": "execute_result"
    },
    {
     "data": {
      "image/png": "[encoded data removed]",
      "text/plain": [
       "<Figure size 432x288 with 1 Axes>"
      ]
     },
     "metadata": {
      "needs_background": "light"
     },
     "output_type": "display_data"
    }
   ],
   "source": [
    "plt.scatter(X,(y1+y2))"
   ]
  },
  {
   "cell_type": "code",
   "execution_count": 29,
   "metadata": {},
   "outputs": [
    {
     "data": {
      "text/plain": [
       "<matplotlib.collections.PathCollection at 0x7fb1287a11c0>"
      ]
     },
     "execution_count": 29,
     "metadata": {},
     "output_type": "execute_result"
    },
    {
     "data": {
      "image/png": "[encoded data removed]",
      "text/plain": [
       "<Figure size 432x288 with 1 Axes>"
      ]
     },
     "metadata": {
      "needs_background": "light"
     },
     "output_type": "display_data"
    }
   ],
   "source": [
    "plt.scatter(y1, y2)"
   ]
  },
  {
   "cell_type": "markdown",
   "metadata": {},
   "source": [
    "Scatter plot suggests a linear relation between counts and expenses"
   ]
  },
  {
   "cell_type": "markdown",
   "metadata": {},
   "source": [
    "From here some extra exploration"
   ]
  },
  {
   "cell_type": "markdown",
   "metadata": {},
   "source": [
    "- EU countries grouped by region and interested in expenses and climate change related word count mean"
   ]
  },
  {
   "cell_type": "code",
   "execution_count": 30,
   "metadata": {},
   "outputs": [
    {
     "data": {
      "text/plain": [
       "<matplotlib.legend.Legend at 0x7fb127f123d0>"
      ]
     },
     "execution_count": 30,
     "metadata": {},
     "output_type": "execute_result"
    },
    {
     "data": {
      "image/png": "[encoded data removed]",
      "text/plain": [
       "<Figure size 432x288 with 1 Axes>"
      ]
     },
     "metadata": {
      "needs_background": "light"
     },
     "output_type": "display_data"
    }
   ],
   "source": [
    "import seaborn as sns\n",
    "\n",
    "# Climate related word count for regions (in EU)\n",
    "df = df_final.groupby(['Year', 'Sub-region Name'], as_index=False, sort=False)[['Expenses','Count']].mean()\n",
    "\n",
    "ax = sns.lineplot(x=\"Year\", y=\"Count\", hue='Sub-region Name', data=df, palette='tab10')\n",
    "ax.legend(ncol=1, bbox_to_anchor=(1, 1), frameon=False)"
   ]
  },
  {
   "cell_type": "code",
   "execution_count": 31,
   "metadata": {},
   "outputs": [
    {
     "data": {
      "text/plain": [
       "<matplotlib.legend.Legend at 0x7fb127b8f460>"
      ]
     },
     "execution_count": 31,
     "metadata": {},
     "output_type": "execute_result"
    },
    {
     "data": {
      "image/png": "[encoded data removed]",
      "text/plain": [
       "<Figure size 432x288 with 1 Axes>"
      ]
     },
     "metadata": {
      "needs_background": "light"
     },
     "output_type": "display_data"
    }
   ],
   "source": [
    "# Climate related word count for countries (in EU)\n",
    "ax = sns.lineplot(x=\"Year\", y=\"Count\", hue='Country or Area', data=df_final, palette='tab10')\n",
    "ax.legend(ncol=2, bbox_to_anchor=(1, 1), frameon=False)"
   ]
  },
  {
   "cell_type": "code",
   "execution_count": 32,
   "metadata": {},
   "outputs": [
    {
     "data": {
      "text/plain": [
       "<matplotlib.collections.PathCollection at 0x7fb1278230a0>"
      ]
     },
     "execution_count": 32,
     "metadata": {},
     "output_type": "execute_result"
    },
    {
     "data": {
      "image/png": "[encoded data removed]",
      "text/plain": [
       "<Figure size 432x288 with 1 Axes>"
      ]
     },
     "metadata": {
      "needs_background": "light"
     },
     "output_type": "display_data"
    }
   ],
   "source": [
    "df_west = df_final[df_final['Country or Area'] == 'Netherlands']\n",
    "\n",
    "X = df_west['Count']\n",
    "y = df_west['Expenses']\n",
    "\n",
    "plt.scatter(X, y)"
   ]
  },
  {
   "cell_type": "markdown",
   "metadata": {},
   "source": [
    "##### j) Exploration phase: Top word frequencies \n"
   ]
  },
  {
   "cell_type": "code",
   "execution_count": 33,
   "metadata": {},
   "outputs": [
    {
     "data": {
      "text/plain": [
       "0      Mr. President, I should like to say first how\\...\n",
       "1      I warmly congratulate the\\nPresident on his el...\n",
       "2      “[Today more then ever we should realize that\\...\n",
       "3      Mr. President, may I\\ncongratulate you on your...\n",
       "4      May I extend our\\ncongratulations to you, Sir,...\n",
       "                             ...                        \n",
       "767    Mr. President, Mr. Secretary-General, Ladies a...\n",
       "768    Mr. President,\\nExcellencies,\\nLadies and Gent...\n",
       "769    Secretary General,\\nPresident of the General A...\n",
       "770    Mr. President of the General Assembly,\\nMr. Se...\n",
       "771    Mr President, Excellencies\\nAll protocol obser...\n",
       "Name: Speech, Length: 772, dtype: object"
      ]
     },
     "execution_count": 33,
     "metadata": {},
     "output_type": "execute_result"
    }
   ],
   "source": [
    "df_final[\"Speech\"]"
   ]
  },
  {
   "cell_type": "code",
   "execution_count": 34,
   "metadata": {},
   "outputs": [
    {
     "name": "stdout",
     "output_type": "stream",
     "text": [
      "Number of documents: 772\n"
     ]
    }
   ],
   "source": [
    "# create topic modeling data\n",
    "\n",
    "TM_data = df_final[\"Speech\"].tolist()\n",
    "\n",
    "TM_data = [x.replace(\"\\n\", \" \") for x in TM_data] # remove the \\n \n",
    "\n",
    "print(f'Number of documents: {len(TM_data)}')"
   ]
  },
  {
   "cell_type": "code",
   "execution_count": 35,
   "metadata": {},
   "outputs": [],
   "source": [
    "import numpy as np\n",
    "import math\n",
    "\n",
    "def show_vocabulary(vectorizer, word_size=15, words_per_line=10):\n",
    "    words = vectorizer.get_feature_names()\n",
    "\n",
    "    word_format = f'<{word_size}'\n",
    "    for l in np.array_split(words, math.ceil(len(words) / words_per_line)):\n",
    "        print(''.join([f'{x:{word_format}}' for x in l]))"
   ]
  },
  {
   "cell_type": "code",
   "execution_count": 36,
   "metadata": {},
   "outputs": [
    {
     "name": "stdout",
     "output_type": "stream",
     "text": [
      "Size of corpus vocabulary: 18727\n"
     ]
    }
   ],
   "source": [
    "from sklearn.feature_extraction.text import CountVectorizer\n",
    "\n",
    "count = CountVectorizer()\n",
    "count.fit(TM_data)\n",
    "print(f'Size of corpus vocabulary: {len(count.get_feature_names())}')"
   ]
  },
  {
   "cell_type": "markdown",
   "metadata": {},
   "source": [
    "Show most frequent words per Subregion"
   ]
  },
  {
   "cell_type": "code",
   "execution_count": 37,
   "metadata": {},
   "outputs": [
    {
     "data": {
      "text/plain": [
       "array(['Western Europe', 'Northern Europe', 'Eastern Europe',\n",
       "       'Southern Europe', 'Western Asia'], dtype=object)"
      ]
     },
     "execution_count": 37,
     "metadata": {},
     "output_type": "execute_result"
    }
   ],
   "source": [
    "df_final[\"Sub-region Name\"].unique()"
   ]
  },
  {
   "cell_type": "code",
   "execution_count": 38,
   "metadata": {},
   "outputs": [],
   "source": [
    "#create the subregion data\n",
    "\n",
    "def data_Sub(df_subregion):\n",
    "    df_subregion = df_final[df_final[\"Sub-region Name\"] == df_subregion]\n",
    "    return df_subregion['Speech'].tolist()\n",
    "\n",
    "data_WE = data_Sub('Western Europe')\n",
    "data_NE = data_Sub('Northern Europe')\n",
    "data_EE = data_Sub('Eastern Europe')\n",
    "data_SE = data_Sub('Southern Europe')\n",
    "data_WA = data_Sub('Western Asia')"
   ]
  },
  {
   "cell_type": "code",
   "execution_count": 40,
   "metadata": {},
   "outputs": [],
   "source": [
    "def nremover(data):\n",
    "    new_data = []\n",
    "    for x in data:\n",
    "        new_data.append(x.replace(\"\\n\", \" \"))\n",
    "        return new_data\n",
    "\n",
    "data_WE = nremover(data_WE)\n",
    "data_NE = nremover(data_NE)\n",
    "data_EE = nremover(data_EE)\n",
    "data_SE = nremover(data_SE)\n",
    "data_WA = nremover(data_WA)"
   ]
  },
  {
   "cell_type": "code",
   "execution_count": 62,
   "metadata": {},
   "outputs": [],
   "source": [
    "#new custom stop words to add\n",
    "import nltk\n",
    "\n",
    "new_stopwords = [\"united nations\", \"nations\", \"united\", \"organization\", \"also\", \"assembly\", \"general\", \"must\", \"community\", \"council\", \"conference\", \"charter\", \"France\"]\n",
    "stpwrd = nltk.corpus.stopwords.words('english')\n",
    "stpwrd.extend(new_stopwords)"
   ]
  },
  {
   "cell_type": "code",
   "execution_count": 63,
   "metadata": {},
   "outputs": [
    {
     "name": "stdout",
     "output_type": "stream",
     "text": [
      "50 most frequent words of Western Europe:\n",
      "\n",
      "agreement      countries      development    disarmament    europe         european       european union first          force          france         \n",
      "held           international  keeping        last           law            like           major          make           may            member         \n",
      "member states  mr             new            nuclear        operations     peace          peace keeping  political      principles     progress       \n",
      "region         respect        security       set            since          states         struggle       together       treaty         two            \n",
      "union          upon           us             values         weapons        work           world          would          year           years          \n",
      "\n",
      "\n",
      "50 most frequent words of Northern Europe:\n",
      "\n",
      "commitment     communities    conflict       consent        cooperation    countries      development    governments    great          hope           \n",
      "human          human rights   international  ireland        irish          keeping        made           many           member         member states  \n",
      "need           negotiations   new            non            northern       northern irelandnuclear        one            operations     part           \n",
      "past           peace          peace keeping  political      possible       process        rights         secretary      security       states         \n",
      "support        take           two            two governmentsviolence       women          world          would          year           years          \n",
      "\n",
      "\n",
      "50 most frequent words of Eastern Europe:\n",
      "\n",
      "capacity       conflict       conflicts      cooperation    development    early          effective      efforts        ethnic         europe         \n",
      "former         former yugoslaviafreedoms       fundamental    fundamental freedomsglobal         human          human rights   humanitarian   hungary        \n",
      "implementation important      international  keeping        law            may            mostly         national       new            nuclear        \n",
      "office         osce           peace          peace keeping  political      presence       preventive     principles     question       regional       \n",
      "respect        rights         rights fundamentalrole           security       settlement     states         treaty         world          yugoslavia     \n",
      "\n",
      "\n",
      "50 most frequent words of Southern Europe:\n",
      "\n",
      "basis          cooperation    countries      country        cyprus         development    economic       efforts        force          former         \n",
      "full           fully          furthermore    government     greece         greek          human          human rights   implementation importance     \n",
      "international  international lawlaw            member         members        national       need           new            parties        peace          \n",
      "political      principles     problems       process        relations      resolution     rights         secretary      security       social         \n",
      "states         support        turkish        union          use            well           world          would          years          yugoslavia     \n",
      "\n",
      "\n",
      "50 most frequent words of Western Asia:\n",
      "\n",
      "agenda         arms           arms control   body           challenges     cold war       commitments    conflict       control        country        \n",
      "cyprus         development    disarmament    economic       economic socialeffectively    efforts        forces         history        human          \n",
      "human rights   important      international  international securityissues         like           military       new            non            occupation     \n",
      "peace          people         persons        political      principles     provided       republic       resolutions    respect        rights         \n",
      "role           security       social         treaty         turkey         turkish        turkish occupationwar            world          years          \n",
      "\n",
      "\n"
     ]
    },
    {
     "name": "stderr",
     "output_type": "stream",
     "text": [
      "[nltk_data] Downloading package stopwords to\n",
      "[nltk_data]     /Users/noemiroos/nltk_data...\n",
      "[nltk_data]   Package stopwords is already up-to-date!\n",
      "[nltk_data] Downloading package wordnet to\n",
      "[nltk_data]     /Users/noemiroos/nltk_data...\n",
      "[nltk_data]   Package wordnet is already up-to-date!\n",
      "/opt/anaconda3/lib/python3.8/site-packages/sklearn/feature_extraction/text.py:383: UserWarning: Your stop_words may be inconsistent with your preprocessing. Tokenizing the stop words generated tokens ['france'] not in stop_words.\n",
      "  warnings.warn('Your stop_words may be inconsistent with '\n"
     ]
    }
   ],
   "source": [
    "nltk.download('stopwords')\n",
    "nltk.download('wordnet')\n",
    "sw = stopwords.words('english')\n",
    "\n",
    "count = CountVectorizer(\n",
    "    stop_words=stpwrd,         #with stopwords excluded\n",
    "    token_pattern=r'[a-z]+',   #fliter token pattern to only alphabetical\n",
    "    ngram_range=(1, 2),        #include singular words and bigrams\n",
    "    max_features=50            #retain only top 50 tokens based on the nr of times they appear in complete corpus   \n",
    ")\n",
    "\n",
    "def top_voc(data_subregion, subregion):\n",
    "    \"\"\"\n",
    "    Returns the 50 most frequent words per subregion with the above parameters set ^\n",
    "    \"\"\"\n",
    "    count.fit(data_subregion)\n",
    "    vocab_top = count.get_feature_names()\n",
    "    print(\"50 most frequent words of\",subregion + \":\\n\")\n",
    "    show_vocabulary(count) \n",
    "    print(\"\\n\")\n",
    "\n",
    "top_voc(data_WE, 'Western Europe')\n",
    "top_voc(data_NE, 'Northern Europe')\n",
    "top_voc(data_EE, 'Eastern Europe')\n",
    "top_voc(data_SE, 'Southern Europe')\n",
    "top_voc(data_WA, 'Western Asia')"
   ]
  },
  {
   "cell_type": "markdown",
   "metadata": {},
   "source": [
    "Testing claim that lemmatizer may improve the detection of similar texts"
   ]
  },
  {
   "cell_type": "code",
   "execution_count": 64,
   "metadata": {},
   "outputs": [
    {
     "name": "stderr",
     "output_type": "stream",
     "text": [
      "/opt/anaconda3/lib/python3.8/site-packages/sklearn/feature_extraction/text.py:484: UserWarning: The parameter 'token_pattern' will not be used since 'tokenizer' is not None'\n",
      "  warnings.warn(\"The parameter 'token_pattern' will not be used\"\n"
     ]
    },
    {
     "name": "stdout",
     "output_type": "stream",
     "text": [
      "No Lemma: Cosine Similarity = 0.13 with 18727 dimensions\n",
      "Lemma   : Cosine Similarity = 0.27 with 16613 dimensions\n"
     ]
    }
   ],
   "source": [
    "from sklearn.metrics.pairwise import cosine_similarity\n",
    "from nltk.stem.wordnet import WordNetLemmatizer\n",
    "\n",
    "count_vanilla = CountVectorizer()\n",
    "count_vanilla.fit(TM_data)\n",
    "\n",
    "tokenizer = CountVectorizer().build_tokenizer()\n",
    "\n",
    "wn = WordNetLemmatizer()\n",
    "def lemmatizer(text):\n",
    "    tokens = tokenizer(text)\n",
    "    return map(wn.lemmatize, tokens)\n",
    "\n",
    "count_lemma = CountVectorizer(\n",
    "    tokenizer=lemmatizer, \n",
    ")\n",
    "count_lemma.fit(TM_data)\n",
    "\n",
    "text_01 = 'It is hard to make a tree grow strong'\n",
    "text_02 = 'I like growing trees and making them strong'\n",
    "\n",
    "for name, vectorizer in zip(['No Lemma', 'Lemma'], [count_vanilla, count_lemma]):\n",
    "    bows = vectorizer.transform([text_01, text_02])\n",
    "    similarity = cosine_similarity(bows)\n",
    "    print(f'{name:<8}: Cosine Similarity = {similarity[0, 1]:0.2f} with {bows.shape[1]:>4d} dimensions')"
   ]
  },
  {
   "cell_type": "markdown",
   "metadata": {},
   "source": [
    "By including a lemmatizer, the cosine similarity between the texts becomes bigger, ie. a lemmatizer is better at detecting when two texts are similar to eachother"
   ]
  },
  {
   "cell_type": "markdown",
   "metadata": {},
   "source": [
    "##### k) Exploration phase: Topic modeling"
   ]
  },
  {
   "cell_type": "code",
   "execution_count": 65,
   "metadata": {},
   "outputs": [
    {
     "name": "stdout",
     "output_type": "stream",
     "text": [
      "Size of vocabulary: 18727\n"
     ]
    }
   ],
   "source": [
    "count = CountVectorizer()\n",
    "count.fit(TM_data)\n",
    "\n",
    "vocab_df = count.get_feature_names()\n",
    "print(f'Size of vocabulary: {len(vocab_df)}')"
   ]
  },
  {
   "cell_type": "code",
   "execution_count": 66,
   "metadata": {},
   "outputs": [
    {
     "name": "stderr",
     "output_type": "stream",
     "text": [
      "/opt/anaconda3/lib/python3.8/site-packages/sklearn/feature_extraction/text.py:383: UserWarning: Your stop_words may be inconsistent with your preprocessing. Tokenizing the stop words generated tokens ['doe', 'france', 'ha', 'nation', 'wa'] not in stop_words.\n",
      "  warnings.warn('Your stop_words may be inconsistent with '\n"
     ]
    },
    {
     "name": "stdout",
     "output_type": "stream",
     "text": [
      "Size of vocabulary: 28005\n"
     ]
    }
   ],
   "source": [
    "# improving the quality of the vocabulary\n",
    "\n",
    "count = CountVectorizer(\n",
    "    stop_words=stpwrd,\n",
    "    token_pattern=r'[a-z]+',\n",
    "    ngram_range=(1, 2), \n",
    "    tokenizer=lemmatizer,      #including the lemmatizer to reduce words to their stem\n",
    "    min_df=5,                  #word should be in min 5 speeches\n",
    "    max_df=0.8                #word should be in max 80% of speeches\n",
    ")\n",
    "count.fit(TM_data)\n",
    "\n",
    "vocab_df = count.get_feature_names()\n",
    "print(f'Size of vocabulary: {len(vocab_df)}')"
   ]
  },
  {
   "cell_type": "code",
   "execution_count": 67,
   "metadata": {},
   "outputs": [],
   "source": [
    "import spacy\n",
    "\n",
    "nlp = spacy.load('en_core_web_sm')\n",
    "\n",
    "add_stops = stpwrd\n",
    "\n",
    "stopped_tokenized = list(map(\n",
    "    lambda tokens: [t.text for t in tokens if len(t.text) > 1 and not t.is_stop and t.text not in add_stops],\n",
    "    nlp.tokenizer.pipe(TM_data)\n",
    "))"
   ]
  },
  {
   "cell_type": "code",
   "execution_count": 68,
   "metadata": {},
   "outputs": [],
   "source": [
    "from gensim.corpora.dictionary import Dictionary\n",
    "from gensim.models.phrases import Phrases\n",
    "\n",
    "dictionary = Dictionary(stopped_tokenized)\n",
    "dictionary.filter_extremes(no_below=5, no_above=0.8)\n",
    "dictionary.compactify()\n",
    "\n",
    "corpus = [dictionary.doc2bow(txt) for txt in stopped_tokenized]"
   ]
  },
  {
   "cell_type": "code",
   "execution_count": 69,
   "metadata": {},
   "outputs": [],
   "source": [
    "# perform LDA on corpus\n",
    "\n",
    "from gensim.models.ldamodel import LdaModel\n",
    "\n",
    "lda = LdaModel(\n",
    "    corpus=corpus, \n",
    "    id2word=dictionary,\n",
    "    num_topics=10,          #tries to find these number of topics\n",
    "    alpha='auto',\n",
    "    eta='auto',\n",
    "    iterations=100,\n",
    "    passes=20,\n",
    "    eval_every=None,\n",
    "    random_state=42,\n",
    "    per_word_topics=True\n",
    ")"
   ]
  },
  {
   "cell_type": "code",
   "execution_count": 70,
   "metadata": {},
   "outputs": [
    {
     "data": {
      "text/plain": [
       "[(0,\n",
       "  '0.013*\"Cyprus\" + 0.007*\"  \" + 0.007*\"Greece\" + 0.006*\"solution\" + 0.006*\"European\" + 0.006*\"Turkish\" + 0.006*\"Turkey\" + 0.005*\"State\" + 0.005*\"Ireland\" + 0.004*\"process\"'),\n",
       " (1,\n",
       "  '0.007*\"Organization\" + 0.004*\"reform\" + 0.004*\"European\" + 0.004*\"process\" + 0.003*\"Member\" + 0.003*\"role\" + 0.003*\"session\" + 0.003*\"like\" + 0.003*\"action\" + 0.003*\"Union\"'),\n",
       " (2,\n",
       "  '0.023*\"Austria\" + 0.012*\"Latvia\" + 0.011*\"  \" + 0.005*\"law\" + 0.005*\"Vienna\" + 0.005*\"nuclear\" + 0.004*\"energy\" + 0.004*\"East\" + 0.003*\"weapons\" + 0.003*\"   \"'),\n",
       " (3,\n",
       "  '0.024*\"Bulgaria\" + 0.007*\"Slovakia\" + 0.006*\"Europe\" + 0.006*\"process\" + 0.006*\"regional\" + 0.006*\"European\" + 0.005*\"session\" + 0.005*\"Bulgarian\" + 0.004*\"region\" + 0.004*\"Slovak\"'),\n",
       " (4,\n",
       "  '0.015*\"  \" + 0.011*\"Union\" + 0.011*\"European\" + 0.006*\"Croatia\" + 0.005*\"process\" + 0.004*\"conflict\" + 0.004*\"role\" + 0.003*\"East\" + 0.003*\"region\" + 0.003*\"resolution\"'),\n",
       " (5,\n",
       "  '0.011*\"  \" + 0.005*\"change\" + 0.005*\"climate\" + 0.005*\"responsibility\" + 0.005*\"women\" + 0.004*\"conflict\" + 0.004*\"law\" + 0.003*\"sustainable\" + 0.003*\"Development\" + 0.003*\"   \"'),\n",
       " (6,\n",
       "  '0.005*\"Europe\" + 0.004*\"European\" + 0.004*\"pandemic\" + 0.004*\"crisis\" + 0.004*\"migration\" + 0.004*\"UN\" + 0.004*\"climate\" + 0.004*\"today\" + 0.004*\"change\" + 0.004*\"law\"'),\n",
       " (7,\n",
       "  '0.007*\"Europe\" + 0.006*\"Germany\" + 0.005*\"law\" + 0.005*\"Syria\" + 0.005*\"conflict\" + 0.005*\"Poland\" + 0.005*\"Ukraine\" + 0.004*\"Netherlands\" + 0.004*\"responsibility\" + 0.004*\"freedom\"'),\n",
       " (8,\n",
       "  '0.012*\"terrorism\" + 0.011*\"Spain\" + 0.005*\"Hungary\" + 0.004*\"like\" + 0.004*\"fight\" + 0.004*\"terrorist\" + 0.003*\"process\" + 0.003*\"Organization\" + 0.003*\"weapons\" + 0.003*\"International\"'),\n",
       " (9,\n",
       "  '0.023*\"Latvia\" + 0.017*\"Norway\" + 0.015*\"  \" + 0.006*\"Development\" + 0.004*\"poverty\" + 0.004*\"sustainable\" + 0.004*\"Goals\" + 0.004*\"conflict\" + 0.003*\"education\" + 0.003*\"State\"')]"
      ]
     },
     "execution_count": 70,
     "metadata": {},
     "output_type": "execute_result"
    }
   ],
   "source": [
    "lda.print_topics()"
   ]
  },
  {
   "cell_type": "code",
   "execution_count": 79,
   "metadata": {},
   "outputs": [
    {
     "ename": "ModuleNotFoundError",
     "evalue": "No module named 'wordcloud'",
     "output_type": "error",
     "traceback": [
      "\u001b[0;31m---------------------------------------------------------------------------\u001b[0m",
      "\u001b[0;31mModuleNotFoundError\u001b[0m                       Traceback (most recent call last)",
      "\u001b[0;32m<ipython-input-79-b3809a1da2e5>\u001b[0m in \u001b[0;36m<module>\u001b[0;34m\u001b[0m\n\u001b[1;32m      2\u001b[0m \u001b[0;32mimport\u001b[0m \u001b[0mmatplotlib\u001b[0m\u001b[0;34m.\u001b[0m\u001b[0mcolors\u001b[0m \u001b[0;32mas\u001b[0m \u001b[0mmcolors\u001b[0m\u001b[0;34m\u001b[0m\u001b[0;34m\u001b[0m\u001b[0m\n\u001b[1;32m      3\u001b[0m \u001b[0;32mimport\u001b[0m \u001b[0mmatplotlib\u001b[0m\u001b[0;34m.\u001b[0m\u001b[0mpyplot\u001b[0m \u001b[0;32mas\u001b[0m \u001b[0mplt\u001b[0m\u001b[0;34m\u001b[0m\u001b[0;34m\u001b[0m\u001b[0m\n\u001b[0;32m----> 4\u001b[0;31m \u001b[0;32mimport\u001b[0m \u001b[0mwordcloud\u001b[0m\u001b[0;34m\u001b[0m\u001b[0;34m\u001b[0m\u001b[0m\n\u001b[0m\u001b[1;32m      5\u001b[0m \u001b[0;32mfrom\u001b[0m \u001b[0mwordcloud\u001b[0m \u001b[0;32mimport\u001b[0m \u001b[0mWordCloud\u001b[0m\u001b[0;34m,\u001b[0m \u001b[0mSTOPWORDS\u001b[0m\u001b[0;34m\u001b[0m\u001b[0;34m\u001b[0m\u001b[0m\n\u001b[1;32m      6\u001b[0m \u001b[0;34m\u001b[0m\u001b[0m\n",
      "\u001b[0;31mModuleNotFoundError\u001b[0m: No module named 'wordcloud'"
     ]
    }
   ],
   "source": [
    "import math\n",
    "import matplotlib.colors as mcolors\n",
    "import matplotlib.pyplot as plt\n",
    "import wordcloud\n",
    "from wordcloud import WordCloud, STOPWORDS\n",
    "\n",
    "nb_columns = 5\n",
    "nb_rows = math.ceil(K / nb_columns)\n",
    "\n",
    "cols = [color for name, color in mcolors.TABLEAU_COLORS.items()]\n",
    "cols = cols * math.ceil(K / len(cols))\n",
    "\n",
    "cloud = WordCloud(background_color='white',\n",
    "                  width=400,\n",
    "                  height=400,\n",
    "                  max_words=10,\n",
    "                  color_func=lambda *args, **kwargs: cols[i],\n",
    "                  prefer_horizontal=1.0)\n",
    "\n",
    "topics = lda.show_topics(num_topics=K, num_words=10, formatted=False)\n",
    "\n",
    "fig, axes = plt.subplots(ncols=nb_columns, nrows=nb_rows, \n",
    "                         figsize=(4*nb_columns, 4*nb_rows), \n",
    "                         sharex=True, sharey=True)\n",
    "\n",
    "for i, (topic, ax) in enumerate(zip(topics, axes.flatten())):\n",
    "    topic_words = dict(topic[1])\n",
    "    cloud.generate_from_frequencies(topic_words, max_font_size=300)\n",
    "    ax.imshow(cloud)\n",
    "    ax.set_title('Topic ' + str(i), fontdict=dict(size=16))\n",
    "    ax.axis('off')\n",
    "\n",
    "\n",
    "plt.subplots_adjust(wspace=0, hspace=0)\n",
    "plt.axis('off')\n",
    "plt.margins(x=0, y=0)\n",
    "plt.tight_layout()\n",
    "plt.show()"
   ]
  },
  {
   "cell_type": "code",
   "execution_count": 96,
   "metadata": {},
   "outputs": [
    {
     "data": {
      "text/plain": [
       "{0: 'Cyprus',\n",
       " 1: 'Organizations role',\n",
       " 2: 'Nuclear',\n",
       " 3: 'Bulgaria',\n",
       " 4: 'East region',\n",
       " 5: 'Climate change',\n",
       " 6: 'Crisis',\n",
       " 7: 'Europes responsibility',\n",
       " 8: 'Terrorism',\n",
       " 9: 'Development'}"
      ]
     },
     "metadata": {},
     "output_type": "display_data"
    }
   ],
   "source": [
    "# give all the topic names and select the topic most close to environment\n",
    "\n",
    "names = [\n",
    "    'Cyprus', \n",
    "    'Organizations role',\n",
    "    'Nuclear',\n",
    "    'Bulgaria',\n",
    "    'East region',\n",
    "    'Climate change',\n",
    "    'Crisis',\n",
    "    'Europes responsibility',\n",
    "    'Terrorism',\n",
    "    'Development'\n",
    "]\n",
    "\n",
    "topic_names = {i: v for i, v in enumerate(names)}\n",
    "display(topic_names)\n",
    "\n",
    "select_topic = 5"
   ]
  },
  {
   "cell_type": "code",
   "execution_count": 85,
   "metadata": {},
   "outputs": [],
   "source": [
    "by_get_document_topics = list(map(lda.get_document_topics, corpus))"
   ]
  },
  {
   "cell_type": "code",
   "execution_count": 86,
   "metadata": {},
   "outputs": [
    {
     "name": "stdout",
     "output_type": "stream",
     "text": [
      "Topic # 1 (Organizations role  ): 0.971\n",
      "Topic # 4 (East region         ): 0.028\n",
      "----------------------------------------\n",
      "Sum                               1.000\n"
     ]
    }
   ],
   "source": [
    "for topic_id, value in by_get_document_topics[0]:\n",
    "    print(f'Topic #{topic_id:2d} ({topic_names[topic_id]:<20}): {value:>4.3f}')\n",
    "print('-' * 40)\n",
    "print(f'Sum {sum(x[1] for x in by_get_document_topics[0]):>35.3f}')"
   ]
  },
  {
   "cell_type": "markdown",
   "metadata": {},
   "source": [
    "Great majority of the speeches could be classified as belonging to the \"Organizations role\" topic"
   ]
  },
  {
   "cell_type": "markdown",
   "metadata": {},
   "source": [
    "#### 1. Modelling"
   ]
  },
  {
   "cell_type": "code",
   "execution_count": 89,
   "metadata": {},
   "outputs": [],
   "source": [
    "from sklearn.model_selection import train_test_split\n",
    "from sklearn import preprocessing\n",
    "\n",
    "X = preprocessing.scale(grouped['Count'].values) # Standardizing X\n",
    "y = preprocessing.scale(grouped['Expenses'].values) # and Y\n",
    "\n",
    "X_train, X_test, y_train, y_test = train_test_split(X, y, test_size=0.33, random_state=42)"
   ]
  },
  {
   "cell_type": "code",
   "execution_count": 90,
   "metadata": {},
   "outputs": [],
   "source": [
    "from sklearn.linear_model import LinearRegression\n",
    "from sklearn.pipeline import make_pipeline\n",
    "\n",
    "lm_model = make_pipeline (\n",
    "    LinearRegression(fit_intercept=True)\n",
    ")\n",
    "\n",
    "lm_model.fit(X_train[:, np.newaxis], y_train)\n",
    "\n",
    "xfit = np.linspace(min(X), max(X), 9)\n",
    "pred_y = lm_model.predict(xfit[:, np.newaxis])"
   ]
  },
  {
   "cell_type": "code",
   "execution_count": 91,
   "metadata": {},
   "outputs": [
    {
     "data": {
      "image/png": "[encoded data removed]",
      "text/plain": [
       "<Figure size 432x288 with 1 Axes>"
      ]
     },
     "metadata": {
      "needs_background": "light"
     },
     "output_type": "display_data"
    }
   ],
   "source": [
    "fig, ax = plt.subplots(1)\n",
    "\n",
    "ax.scatter(X_train, y_train, c='black')\n",
    "ax.set_xlabel(\"Count\")\n",
    "ax.set_ylabel(\"Expenses\")\n",
    "\n",
    "ax.plot(xfit, pred_y, c='red');\n",
    "plt.show()\n"
   ]
  },
  {
   "cell_type": "code",
   "execution_count": 92,
   "metadata": {},
   "outputs": [
    {
     "name": "stdout",
     "output_type": "stream",
     "text": [
      "Mean squared error - Test: 1.74\n",
      "Variance score - Test: -2.55\n"
     ]
    }
   ],
   "source": [
    "from sklearn.metrics import mean_squared_error, r2_score\n",
    "\n",
    "# Evaluate the model\n",
    "# The mean squared error\n",
    "print(\"Mean squared error - Test: %.2f\" % mean_squared_error(y_test, pred_y))\n",
    "# Explained variance score: 1 is perfect prediction\n",
    "print('Variance score - Test: %.2f' % r2_score(y_test, pred_y))"
   ]
  },
  {
   "cell_type": "code",
   "execution_count": 93,
   "metadata": {},
   "outputs": [
    {
     "data": {
      "image/png": "[encoded data removed]",
      "text/plain": [
       "<Figure size 432x288 with 1 Axes>"
      ]
     },
     "metadata": {
      "needs_background": "light"
     },
     "output_type": "display_data"
    }
   ],
   "source": [
    "from sklearn.preprocessing import PolynomialFeatures\n",
    "\n",
    "X_train, X_test, y_train, y_test = train_test_split(X, y, \\\n",
    "    test_size=0.33, random_state=42)\n",
    "\n",
    "polymodel = make_pipeline(PolynomialFeatures(2), LinearRegression(fit_intercept=True))\n",
    "\n",
    "polymodel.fit(X_train[:, np.newaxis], y_train)\n",
    "\n",
    "xfit = np.linspace(min(X_train), max(X_train), 9)\n",
    "\n",
    "y_pred = polymodel.predict(xfit[:, np.newaxis])\n",
    "\n",
    "fig, ax = plt.subplots()\n",
    "ax.scatter(X_train, y_train, c='black')\n",
    "\n",
    "ax.set_xlabel(\"X\")\n",
    "ax.set_ylabel(\"Y\")\n",
    "\n",
    "ax.plot(xfit, y_pred, c='red');\n",
    "plt.show()"
   ]
  },
  {
   "cell_type": "code",
   "execution_count": 94,
   "metadata": {},
   "outputs": [
    {
     "name": "stdout",
     "output_type": "stream",
     "text": [
      "Mean squared error - Test: 1.35\n",
      "Variance score - Test: -1.76\n"
     ]
    }
   ],
   "source": [
    "# The mean squared error\n",
    "print(\"Mean squared error - Test: %.2f\" % mean_squared_error(y_test, y_pred))\n",
    "# Explained variance score: 1 is perfect prediction\n",
    "print('Variance score - Test: %.2f' % r2_score(y_test, y_pred))\n"
   ]
  },
  {
   "cell_type": "markdown",
   "metadata": {},
   "source": [
    "#### 2. Visualisation"
   ]
  },
  {
   "cell_type": "markdown",
   "metadata": {},
   "source": [
    "Remember the principles of data visualisation: \n",
    "1. Know the audience: Curse of expertise, informative labels.\n",
    "2. One plot, one message.\n",
    "3. Adapt figure to medium: Thicker lines, less information for smaller mediums.\n",
    "4. Caption! \n",
    "5. Do not trust the defaults (especially in Matplotlib)\n",
    "6. Use color effectively. Color maps: sequential vs diverging vs qualitative.\n",
    "\n",
    "    *Diverging* = if there’s a meaningful middle point\n",
    "    \n",
    "    *Sequential* = for a more intuitive reading\n",
    "7. Avoid chartjunk = unnecessary visual elements\n",
    "8. Do not mislead audience\n",
    "9. Chose message over beauty\n",
    "10. Know and use the right tool: matplotlib, seaborn, geopandas, networkX.\n"
   ]
  },
  {
   "cell_type": "code",
   "execution_count": 95,
   "metadata": {},
   "outputs": [
    {
     "ename": "AttributeError",
     "evalue": "module 'seaborn' has no attribute 'set_theme'",
     "output_type": "error",
     "traceback": [
      "\u001b[0;31m---------------------------------------------------------------------------\u001b[0m",
      "\u001b[0;31mAttributeError\u001b[0m                            Traceback (most recent call last)",
      "\u001b[0;32m<ipython-input-95-4776e465b0d2>\u001b[0m in \u001b[0;36m<module>\u001b[0;34m\u001b[0m\n\u001b[1;32m      3\u001b[0m \u001b[0;34m\u001b[0m\u001b[0m\n\u001b[1;32m      4\u001b[0m \u001b[0;31m# Set styling parameters for sns\u001b[0m\u001b[0;34m\u001b[0m\u001b[0;34m\u001b[0m\u001b[0;34m\u001b[0m\u001b[0m\n\u001b[0;32m----> 5\u001b[0;31m \u001b[0msns\u001b[0m\u001b[0;34m.\u001b[0m\u001b[0mset_theme\u001b[0m\u001b[0;34m(\u001b[0m\u001b[0;34m)\u001b[0m\u001b[0;34m;\u001b[0m \u001b[0msns\u001b[0m\u001b[0;34m.\u001b[0m\u001b[0mset_context\u001b[0m\u001b[0;34m(\u001b[0m\u001b[0;34m'notebook'\u001b[0m\u001b[0;34m)\u001b[0m\u001b[0;34m;\u001b[0m \u001b[0msns\u001b[0m\u001b[0;34m.\u001b[0m\u001b[0mset_style\u001b[0m\u001b[0;34m(\u001b[0m\u001b[0;34m'ticks'\u001b[0m\u001b[0;34m)\u001b[0m\u001b[0;34m\u001b[0m\u001b[0;34m\u001b[0m\u001b[0m\n\u001b[0m",
      "\u001b[0;31mAttributeError\u001b[0m: module 'seaborn' has no attribute 'set_theme'"
     ]
    }
   ],
   "source": [
    "import matplotlib.pyplot as plt\n",
    "import seaborn as sns\n",
    "\n",
    "# Set styling parameters for sns\n",
    "sns.set_theme(); sns.set_context('notebook'); sns.set_style('ticks')"
   ]
  },
  {
   "cell_type": "markdown",
   "metadata": {},
   "source": [
    "Linegraph"
   ]
  },
  {
   "cell_type": "code",
   "execution_count": null,
   "metadata": {},
   "outputs": [],
   "source": [
    "#TODO Plot lingraph: X = Year, Y = Expenses, Lines = Different countries?\n",
    "# ax = sns.lineplot(x=\"Year\", y=\"Count\", hue='Sub-region Name', data=grouped, palette='tab10')\n",
    "# ax.legend(ncol=2, bbox_to_anchor=(1, 1), frameon=False)"
   ]
  },
  {
   "cell_type": "markdown",
   "metadata": {},
   "source": [
    "Scatterplot"
   ]
  },
  {
   "cell_type": "code",
   "execution_count": null,
   "metadata": {},
   "outputs": [],
   "source": [
    "# Scatterplot: X = Year, Y = Expenses, Dot = Country\n",
    "# df_west = df_speech[df_speech['Sub-region Name'] == 'Western Europe']\n",
    "# ax = sns.scatterplot(x=\"Count\", y=\"Expenses\", hue='Country or Area', data=df_west)\n",
    "# ax.legend(ncol=2, frameon=False)"
   ]
  },
  {
   "cell_type": "markdown",
   "metadata": {},
   "source": [
    "Histogram"
   ]
  },
  {
   "cell_type": "code",
   "execution_count": null,
   "metadata": {},
   "outputs": [],
   "source": [
    "#TODO Plot histogram: group data by ISO...."
   ]
  },
  {
   "cell_type": "markdown",
   "metadata": {},
   "source": [
    "Geopandas"
   ]
  },
  {
   "cell_type": "code",
   "execution_count": null,
   "metadata": {},
   "outputs": [],
   "source": [
    "# import geopandas\n",
    "\n",
    "# world = geopandas.read_file(geopandas.datasets.get_path(\"naturalearth_lowres\"))\n",
    "# europe = world.merge(df_speech, how='inner', left_on='name', right_on='Country or Area')"
   ]
  },
  {
   "cell_type": "code",
   "execution_count": null,
   "metadata": {},
   "outputs": [],
   "source": [
    "# ax = world.plot(, color='white', edgecolor='black')\n",
    "# fig, ax = plt.subplots(1)\n",
    "# europe.plot(column='Count', ax=ax, legend=True)"
   ]
  },
  {
   "cell_type": "code",
   "execution_count": null,
   "metadata": {},
   "outputs": [],
   "source": []
  },
  {
   "cell_type": "code",
   "execution_count": null,
   "metadata": {},
   "outputs": [],
   "source": []
  }
 ],
 "metadata": {
  "kernelspec": {
   "display_name": "Python 3",
   "language": "python",
   "name": "python3"
  },
  "language_info": {
   "codemirror_mode": {
    "name": "ipython",
    "version": 3
   },
   "file_extension": ".py",
   "mimetype": "text/x-python",
   "name": "python",
   "nbconvert_exporter": "python",
   "pygments_lexer": "ipython3",
   "version": "3.8.3"
  },
  "vscode": {
   "interpreter": {
    "hash": "aee8b7b246df8f9039afb4144a1f6fd8d2ca17a180786b69acc140d282b71a49"
   }
  }
 },
 "nbformat": 4,
 "nbformat_minor": 2
}
