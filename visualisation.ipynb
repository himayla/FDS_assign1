{
 "cells": [
  {
   "cell_type": "markdown",
   "metadata": {},
   "source": [
    "TODO: \n",
    "- ! Think about what plots would suit the current question and hypotheses the best, e.g., histogram?\n",
    "- ! Preprocessing of speeches and external data\n",
    "- Quantify the speech column. \n",
    "    - Currently: Compare words in speech to words in labeled climate change dataset. \n",
    "    Problem: languages, the classifier will only work for English texts. \n",
    "\n",
    "Another option would be to use classifier to analyze every sentence in every speech. \n",
    "The result (sum?) of this could be added to a new column in `df_speech`. \n",
    "But currently the model has very low accuracy score compared to the paper: https://s3.us-east-1.amazonaws.com/climate-change-ai/papers/neurips2020/69/paper.pdf"
   ]
  },
  {
   "cell_type": "markdown",
   "metadata": {},
   "source": [
    "In this notebook the prepared data will be visualised."
   ]
  },
  {
   "cell_type": "markdown",
   "metadata": {},
   "source": [
    "#### 0. Prepare the data"
   ]
  },
  {
   "cell_type": "markdown",
   "metadata": {},
   "source": [
    "##### a) Load the daset containing the speeches"
   ]
  },
  {
   "cell_type": "code",
   "execution_count": 1,
   "metadata": {},
   "outputs": [
    {
     "data": {
      "text/html": [
       "<div>\n",
       "<style scoped>\n",
       "    .dataframe tbody tr th:only-of-type {\n",
       "        vertical-align: middle;\n",
       "    }\n",
       "\n",
       "    .dataframe tbody tr th {\n",
       "        vertical-align: top;\n",
       "    }\n",
       "\n",
       "    .dataframe thead th {\n",
       "        text-align: right;\n",
       "    }\n",
       "</style>\n",
       "<table border=\"1\" class=\"dataframe\">\n",
       "  <thead>\n",
       "    <tr style=\"text-align: right;\">\n",
       "      <th></th>\n",
       "      <th>Session</th>\n",
       "      <th>Year</th>\n",
       "      <th>ISO-alpha3 Code</th>\n",
       "      <th>Speech</th>\n",
       "    </tr>\n",
       "  </thead>\n",
       "  <tbody>\n",
       "    <tr>\n",
       "      <th>0</th>\n",
       "      <td>50</td>\n",
       "      <td>1995</td>\n",
       "      <td>BDI</td>\n",
       "      <td>The United Nations is celebrating its fiftieth...</td>\n",
       "    </tr>\n",
       "    <tr>\n",
       "      <th>1</th>\n",
       "      <td>50</td>\n",
       "      <td>1995</td>\n",
       "      <td>VNM</td>\n",
       "      <td>Allow me at the outset, on behalf of the\\ndele...</td>\n",
       "    </tr>\n",
       "    <tr>\n",
       "      <th>2</th>\n",
       "      <td>50</td>\n",
       "      <td>1995</td>\n",
       "      <td>PAK</td>\n",
       "      <td>I extend to you, Sir, my\\ndelegation’s felicit...</td>\n",
       "    </tr>\n",
       "    <tr>\n",
       "      <th>3</th>\n",
       "      <td>50</td>\n",
       "      <td>1995</td>\n",
       "      <td>MLI</td>\n",
       "      <td>We\\nare meeting on the eve of the fiftieth ann...</td>\n",
       "    </tr>\n",
       "    <tr>\n",
       "      <th>4</th>\n",
       "      <td>50</td>\n",
       "      <td>1995</td>\n",
       "      <td>FRA</td>\n",
       "      <td>Mr. President, I should like to say first how\\...</td>\n",
       "    </tr>\n",
       "  </tbody>\n",
       "</table>\n",
       "</div>"
      ],
      "text/plain": [
       "   Session  Year ISO-alpha3 Code  \\\n",
       "0       50  1995             BDI   \n",
       "1       50  1995             VNM   \n",
       "2       50  1995             PAK   \n",
       "3       50  1995             MLI   \n",
       "4       50  1995             FRA   \n",
       "\n",
       "                                              Speech  \n",
       "0  The United Nations is celebrating its fiftieth...  \n",
       "1  Allow me at the outset, on behalf of the\\ndele...  \n",
       "2  I extend to you, Sir, my\\ndelegation’s felicit...  \n",
       "3  We\\nare meeting on the eve of the fiftieth ann...  \n",
       "4  Mr. President, I should like to say first how\\...  "
      ]
     },
     "execution_count": 1,
     "metadata": {},
     "output_type": "execute_result"
    }
   ],
   "source": [
    "import os\n",
    "import numpy as np\n",
    "import pandas as pd\n",
    "\n",
    "sessions = np.arange(25, 76)\n",
    "data = []\n",
    "\n",
    "for session in sessions:\n",
    "    directory = \"data/TXT/Session \" + str(session) + \" - \" + str(1945 + session)\n",
    "    for filename in os.listdir(directory):\n",
    "        f = open(os.path.join(directory, filename))\n",
    "        if filename[0] == \".\": #ignore hidden files\n",
    "            continue\n",
    "        splt = filename.split(\"_\")\n",
    "        # Start from 1995\n",
    "        if session < 50:\n",
    "            continue\n",
    "        data.append([session, 1945 + session, splt[0], f.read()])\n",
    "\n",
    "df_speech = pd.DataFrame(data, columns=['Session','Year','ISO-alpha3 Code','Speech'])\n",
    "df_speech.head() # Shape: (4913, 4)"
   ]
  },
  {
   "cell_type": "code",
   "execution_count": 2,
   "metadata": {},
   "outputs": [],
   "source": [
    "# Load recent speeches\n",
    "from pdfminer.high_level import extract_text\n",
    "\n",
    "year = 2022\n",
    "session = 76\n",
    "folder = f'data/PDF/Session_76 - {year}/'\n",
    "\n",
    "data = []\n",
    "\n",
    "for file in os.listdir(folder):\n",
    "    f = open(os.path.join(folder, file), \"rb\")\n",
    "\n",
    "    splt = file.split(\"_\")\n",
    "    data.append([session, year, splt[0], extract_text(f)])\n",
    "\n",
    "df_recent = pd.DataFrame(data, columns=['Session','Year','ISO-alpha3 Code','Speech'])\n",
    "\n",
    "df_speech = pd.concat([df_speech, df_recent])"
   ]
  },
  {
   "cell_type": "markdown",
   "metadata": {},
   "source": [
    "##### b) Load the dataset containing the expenses"
   ]
  },
  {
   "cell_type": "code",
   "execution_count": 3,
   "metadata": {},
   "outputs": [
    {
     "data": {
      "text/html": [
       "<div>\n",
       "<style scoped>\n",
       "    .dataframe tbody tr th:only-of-type {\n",
       "        vertical-align: middle;\n",
       "    }\n",
       "\n",
       "    .dataframe tbody tr th {\n",
       "        vertical-align: top;\n",
       "    }\n",
       "\n",
       "    .dataframe thead th {\n",
       "        text-align: right;\n",
       "    }\n",
       "</style>\n",
       "<table border=\"1\" class=\"dataframe\">\n",
       "  <thead>\n",
       "    <tr style=\"text-align: right;\">\n",
       "      <th></th>\n",
       "      <th>ISO-alpha2 Code</th>\n",
       "      <th>Year</th>\n",
       "      <th>Expenses</th>\n",
       "    </tr>\n",
       "  </thead>\n",
       "  <tbody>\n",
       "    <tr>\n",
       "      <th>0</th>\n",
       "      <td>AT</td>\n",
       "      <td>1995</td>\n",
       "      <td>55.8</td>\n",
       "    </tr>\n",
       "    <tr>\n",
       "      <th>1</th>\n",
       "      <td>BE</td>\n",
       "      <td>1995</td>\n",
       "      <td>52.6</td>\n",
       "    </tr>\n",
       "    <tr>\n",
       "      <th>2</th>\n",
       "      <td>BG</td>\n",
       "      <td>1995</td>\n",
       "      <td>31.7</td>\n",
       "    </tr>\n",
       "    <tr>\n",
       "      <th>3</th>\n",
       "      <td>CH</td>\n",
       "      <td>1995</td>\n",
       "      <td>33.3</td>\n",
       "    </tr>\n",
       "    <tr>\n",
       "      <th>4</th>\n",
       "      <td>CY</td>\n",
       "      <td>1995</td>\n",
       "      <td>30.9</td>\n",
       "    </tr>\n",
       "  </tbody>\n",
       "</table>\n",
       "</div>"
      ],
      "text/plain": [
       "  ISO-alpha2 Code  Year  Expenses\n",
       "0              AT  1995      55.8\n",
       "1              BE  1995      52.6\n",
       "2              BG  1995      31.7\n",
       "3              CH  1995      33.3\n",
       "4              CY  1995      30.9"
      ]
     },
     "execution_count": 3,
     "metadata": {},
     "output_type": "execute_result"
    }
   ],
   "source": [
    "# Load COFOG\n",
    "cofog = pd.read_csv(\"data/gov_10a_exp__custom_3469207_page_tabular.tsv\", sep='\\t')\n",
    "\n",
    "cofog.iloc[:,0] = cofog.iloc[:,0].str.split(',').str[-1]\n",
    "cofog.rename(columns={cofog.columns[0]: \"ISO-alpha2 Code\"}, inplace=True)\n",
    "\n",
    "# Perform some preprocessing\n",
    "cofog = cofog.melt(id_vars=[\"ISO-alpha2 Code\"], var_name=\"Year\", value_name='Expenses')\n",
    "cofog['Year'] = cofog['Year'].astype(int)\n",
    "cofog['Expenses'] = cofog['Expenses'].astype(str).str.strip().str.extract(r'(\\d+.\\d+)').astype('float')\n",
    "\n",
    "cofog.head()"
   ]
  },
  {
   "cell_type": "markdown",
   "metadata": {},
   "source": [
    "COFOG contains ISO-alpha2 Code while `df_speeches` has ISO-alpha3 codes. We can use another external dataset that uses both."
   ]
  },
  {
   "cell_type": "markdown",
   "metadata": {},
   "source": [
    "##### c) Load dataset containing all names of countries and codes"
   ]
  },
  {
   "cell_type": "code",
   "execution_count": 4,
   "metadata": {},
   "outputs": [
    {
     "data": {
      "text/html": [
       "<div>\n",
       "<style scoped>\n",
       "    .dataframe tbody tr th:only-of-type {\n",
       "        vertical-align: middle;\n",
       "    }\n",
       "\n",
       "    .dataframe tbody tr th {\n",
       "        vertical-align: top;\n",
       "    }\n",
       "\n",
       "    .dataframe thead th {\n",
       "        text-align: right;\n",
       "    }\n",
       "</style>\n",
       "<table border=\"1\" class=\"dataframe\">\n",
       "  <thead>\n",
       "    <tr style=\"text-align: right;\">\n",
       "      <th></th>\n",
       "      <th>ISO-alpha3 Code</th>\n",
       "      <th>ISO-alpha2 Code</th>\n",
       "      <th>Expenses</th>\n",
       "      <th>Country or Area</th>\n",
       "      <th>Year</th>\n",
       "      <th>Region Name</th>\n",
       "      <th>Sub-region Name</th>\n",
       "    </tr>\n",
       "  </thead>\n",
       "  <tbody>\n",
       "    <tr>\n",
       "      <th>0</th>\n",
       "      <td>AUT</td>\n",
       "      <td>AT</td>\n",
       "      <td>55.8</td>\n",
       "      <td>Austria</td>\n",
       "      <td>1995</td>\n",
       "      <td>Europe</td>\n",
       "      <td>Western Europe</td>\n",
       "    </tr>\n",
       "    <tr>\n",
       "      <th>1</th>\n",
       "      <td>AUT</td>\n",
       "      <td>AT</td>\n",
       "      <td>55.6</td>\n",
       "      <td>Austria</td>\n",
       "      <td>1996</td>\n",
       "      <td>Europe</td>\n",
       "      <td>Western Europe</td>\n",
       "    </tr>\n",
       "    <tr>\n",
       "      <th>2</th>\n",
       "      <td>AUT</td>\n",
       "      <td>AT</td>\n",
       "      <td>52.3</td>\n",
       "      <td>Austria</td>\n",
       "      <td>1997</td>\n",
       "      <td>Europe</td>\n",
       "      <td>Western Europe</td>\n",
       "    </tr>\n",
       "    <tr>\n",
       "      <th>3</th>\n",
       "      <td>AUT</td>\n",
       "      <td>AT</td>\n",
       "      <td>52.2</td>\n",
       "      <td>Austria</td>\n",
       "      <td>1998</td>\n",
       "      <td>Europe</td>\n",
       "      <td>Western Europe</td>\n",
       "    </tr>\n",
       "    <tr>\n",
       "      <th>4</th>\n",
       "      <td>AUT</td>\n",
       "      <td>AT</td>\n",
       "      <td>52.1</td>\n",
       "      <td>Austria</td>\n",
       "      <td>1999</td>\n",
       "      <td>Europe</td>\n",
       "      <td>Western Europe</td>\n",
       "    </tr>\n",
       "  </tbody>\n",
       "</table>\n",
       "</div>"
      ],
      "text/plain": [
       "  ISO-alpha3 Code ISO-alpha2 Code  Expenses Country or Area  Year Region Name  \\\n",
       "0             AUT              AT      55.8         Austria  1995      Europe   \n",
       "1             AUT              AT      55.6         Austria  1996      Europe   \n",
       "2             AUT              AT      52.3         Austria  1997      Europe   \n",
       "3             AUT              AT      52.2         Austria  1998      Europe   \n",
       "4             AUT              AT      52.1         Austria  1999      Europe   \n",
       "\n",
       "  Sub-region Name  \n",
       "0  Western Europe  \n",
       "1  Western Europe  \n",
       "2  Western Europe  \n",
       "3  Western Europe  \n",
       "4  Western Europe  "
      ]
     },
     "execution_count": 4,
     "metadata": {},
     "output_type": "execute_result"
    }
   ],
   "source": [
    "df_codes = pd.read_csv(\"data/UNSD — Methodology.csv\", delimiter=';')\n",
    "\n",
    "df_un_merged = cofog.merge(df_codes, how='inner') # Df goes from 832 -> 754, but don't know why!!!\n",
    "df_un_merged = df_un_merged[[\"ISO-alpha3 Code\", \"ISO-alpha2 Code\", \"Expenses\", \"Country or Area\", \"Year\", \"Region Name\", \"Sub-region Name\"]]\n",
    "\n",
    "df_un_merged.head()"
   ]
  },
  {
   "cell_type": "markdown",
   "metadata": {},
   "source": [
    "##### d) Merge datasets\n",
    "Now we have a COFOG dataframe and a speeches which can be merged with the corresponding `ISO-alpha3` codes and the specific year. We also remove non-European countries."
   ]
  },
  {
   "cell_type": "code",
   "execution_count": 5,
   "metadata": {},
   "outputs": [
    {
     "data": {
      "text/html": [
       "<div>\n",
       "<style scoped>\n",
       "    .dataframe tbody tr th:only-of-type {\n",
       "        vertical-align: middle;\n",
       "    }\n",
       "\n",
       "    .dataframe tbody tr th {\n",
       "        vertical-align: top;\n",
       "    }\n",
       "\n",
       "    .dataframe thead th {\n",
       "        text-align: right;\n",
       "    }\n",
       "</style>\n",
       "<table border=\"1\" class=\"dataframe\">\n",
       "  <thead>\n",
       "    <tr style=\"text-align: right;\">\n",
       "      <th></th>\n",
       "      <th>Session</th>\n",
       "      <th>Year</th>\n",
       "      <th>ISO-alpha3 Code</th>\n",
       "      <th>Speech</th>\n",
       "      <th>ISO-alpha2 Code</th>\n",
       "      <th>Expenses</th>\n",
       "      <th>Country or Area</th>\n",
       "      <th>Region Name</th>\n",
       "      <th>Sub-region Name</th>\n",
       "    </tr>\n",
       "  </thead>\n",
       "  <tbody>\n",
       "    <tr>\n",
       "      <th>0</th>\n",
       "      <td>50</td>\n",
       "      <td>1995</td>\n",
       "      <td>FRA</td>\n",
       "      <td>Mr. President, I should like to say first how\\...</td>\n",
       "      <td>FR</td>\n",
       "      <td>54.8</td>\n",
       "      <td>France</td>\n",
       "      <td>Europe</td>\n",
       "      <td>Western Europe</td>\n",
       "    </tr>\n",
       "    <tr>\n",
       "      <th>1</th>\n",
       "      <td>50</td>\n",
       "      <td>1995</td>\n",
       "      <td>IRL</td>\n",
       "      <td>I warmly congratulate the\\nPresident on his el...</td>\n",
       "      <td>IE</td>\n",
       "      <td>40.4</td>\n",
       "      <td>Ireland</td>\n",
       "      <td>Europe</td>\n",
       "      <td>Northern Europe</td>\n",
       "    </tr>\n",
       "    <tr>\n",
       "      <th>2</th>\n",
       "      <td>50</td>\n",
       "      <td>1995</td>\n",
       "      <td>BEL</td>\n",
       "      <td>“[Today more then ever we should realize that\\...</td>\n",
       "      <td>BE</td>\n",
       "      <td>52.6</td>\n",
       "      <td>Belgium</td>\n",
       "      <td>Europe</td>\n",
       "      <td>Western Europe</td>\n",
       "    </tr>\n",
       "    <tr>\n",
       "      <th>3</th>\n",
       "      <td>50</td>\n",
       "      <td>1995</td>\n",
       "      <td>ISL</td>\n",
       "      <td>Mr. President, may I\\ncongratulate you on your...</td>\n",
       "      <td>IS</td>\n",
       "      <td>NaN</td>\n",
       "      <td>Iceland</td>\n",
       "      <td>Europe</td>\n",
       "      <td>Northern Europe</td>\n",
       "    </tr>\n",
       "    <tr>\n",
       "      <th>4</th>\n",
       "      <td>50</td>\n",
       "      <td>1995</td>\n",
       "      <td>HUN</td>\n",
       "      <td>May I extend our\\ncongratulations to you, Sir,...</td>\n",
       "      <td>HU</td>\n",
       "      <td>55.2</td>\n",
       "      <td>Hungary</td>\n",
       "      <td>Europe</td>\n",
       "      <td>Eastern Europe</td>\n",
       "    </tr>\n",
       "  </tbody>\n",
       "</table>\n",
       "</div>"
      ],
      "text/plain": [
       "   Session  Year ISO-alpha3 Code  \\\n",
       "0       50  1995             FRA   \n",
       "1       50  1995             IRL   \n",
       "2       50  1995             BEL   \n",
       "3       50  1995             ISL   \n",
       "4       50  1995             HUN   \n",
       "\n",
       "                                              Speech ISO-alpha2 Code  \\\n",
       "0  Mr. President, I should like to say first how\\...              FR   \n",
       "1  I warmly congratulate the\\nPresident on his el...              IE   \n",
       "2  “[Today more then ever we should realize that\\...              BE   \n",
       "3  Mr. President, may I\\ncongratulate you on your...              IS   \n",
       "4  May I extend our\\ncongratulations to you, Sir,...              HU   \n",
       "\n",
       "   Expenses Country or Area Region Name  Sub-region Name  \n",
       "0      54.8          France      Europe   Western Europe  \n",
       "1      40.4         Ireland      Europe  Northern Europe  \n",
       "2      52.6         Belgium      Europe   Western Europe  \n",
       "3       NaN         Iceland      Europe  Northern Europe  \n",
       "4      55.2         Hungary      Europe   Eastern Europe  "
      ]
     },
     "execution_count": 5,
     "metadata": {},
     "output_type": "execute_result"
    }
   ],
   "source": [
    "df_speech = df_speech.merge(df_un_merged, how='inner', on=['Year', 'ISO-alpha3 Code'])\n",
    "df_speech.head()"
   ]
  },
  {
   "cell_type": "markdown",
   "metadata": {},
   "source": [
    "##### e) Clean the `Speech` column"
   ]
  },
  {
   "cell_type": "code",
   "execution_count": 6,
   "metadata": {},
   "outputs": [],
   "source": [
    "# Copy speech to new column\n",
    "df_speech['Text'] = df_speech.loc[:,'Speech'].copy()"
   ]
  },
  {
   "cell_type": "code",
   "execution_count": 7,
   "metadata": {},
   "outputs": [],
   "source": [
    "from nltk import word_tokenize\n",
    "from nltk.corpus import stopwords\n",
    "\n",
    "def preprocess(words):\n",
    "    \"\"\"\n",
    "    Returns list with words without stopwords and interpunction\n",
    "    \"\"\"\n",
    "    sw = stopwords.words(\"english\")\n",
    "    clean = []\n",
    "    for w in words:\n",
    "        w = str.lower(w)\n",
    "        if (w not in sw) and (w.isalpha()):\n",
    "            clean.append(w)\n",
    "\n",
    "    return clean\n",
    "\n",
    "# ! Warning, cell takes longer: about 40 seconds\n",
    "df_speech.loc[:,'Text'] = df_speech.loc[:,'Text'].apply(word_tokenize)\n",
    "df_speech.loc[:,'Text'] = df_speech.loc[:,'Text'].apply(preprocess)"
   ]
  },
  {
   "cell_type": "code",
   "execution_count": null,
   "metadata": {},
   "outputs": [],
   "source": [
    "df_speech.head()"
   ]
  },
  {
   "cell_type": "markdown",
   "metadata": {},
   "source": [
    "##### f) Quantify the attention for the topic of climate change by  the Member States"
   ]
  },
  {
   "cell_type": "code",
   "execution_count": null,
   "metadata": {},
   "outputs": [],
   "source": [
    "# Loading the labeled dataset\n",
    "climate = pd.read_json('data/climate-fever-dataset-r1.jsonl', lines=True) # Source https://www.sustainablefinance.uzh.ch/en/research/climate-fever.html\n",
    "\n",
    "# Retrieve the values remove the uncertain ones\n",
    "climate = climate[(climate.claim_label != 'DISPUTED') & (climate.claim_label != 'NOT_ENOUGH_INFO')]\n",
    "\n",
    "climate.head()"
   ]
  },
  {
   "cell_type": "code",
   "execution_count": null,
   "metadata": {},
   "outputs": [],
   "source": [
    "# Extract claims and clean\n",
    "claims = ' '.join([i for i in set(climate.claim.values)])\n",
    "\n",
    "climate_words = word_tokenize(claims)\n",
    "climate_words = preprocess(climate_words)\n",
    "\n",
    "print(len(climate_words)) # 10215"
   ]
  },
  {
   "cell_type": "code",
   "execution_count": null,
   "metadata": {},
   "outputs": [],
   "source": [
    "def count_occurrences(words):\n",
    "    counts = {}\n",
    "    count = 0\n",
    "    for word in words:\n",
    "        if word in climate_words:\n",
    "            if word in counts.keys():\n",
    "                counts[word] += 1\n",
    "            else:\n",
    "                counts[word] = 0\n",
    "    total = sum(counts.values())\n",
    "    return total\n",
    "\n",
    "# Warning, cell takes long: over 1m\n",
    "df_speech['Count'] = df_speech['Text'].apply(count_occurrences)"
   ]
  },
  {
   "cell_type": "code",
   "execution_count": null,
   "metadata": {},
   "outputs": [],
   "source": [
    "df_speech['Count'].head(100)"
   ]
  },
  {
   "cell_type": "markdown",
   "metadata": {},
   "source": [
    "#### 1. Visualisation"
   ]
  },
  {
   "cell_type": "markdown",
   "metadata": {},
   "source": [
    "Remember the principles of data visualisation: \n",
    "1. Know the audience: Curse of expertise, informative labels.\n",
    "2. One plot, one message.\n",
    "3. Adapt figure to medium: Thicker lines, less information for smaller mediums.\n",
    "4. Caption! \n",
    "5. Do not trust the defaults (especially in Matplotlib)\n",
    "6. Use color effectively. Color maps: sequential vs diverging vs qualitative.\n",
    "\n",
    "    *Diverging* = if there’s a meaningful middle point\n",
    "    \n",
    "    *Sequential* = for a more intuitive reading\n",
    "7. Avoid chartjunk = unnecessary visual elements\n",
    "8. Do not mislead audience\n",
    "9. Chose message over beauty\n",
    "10. Know and use the right tool: matplotlib, seaborn, geopandas, networkX.\n"
   ]
  },
  {
   "cell_type": "code",
   "execution_count": null,
   "metadata": {},
   "outputs": [],
   "source": [
    "df_speech.head()"
   ]
  },
  {
   "cell_type": "code",
   "execution_count": null,
   "metadata": {},
   "outputs": [],
   "source": [
    "import matplotlib.pyplot as plt\n",
    "import seaborn as sns\n",
    "\n",
    "# Set styling parameters for sns\n",
    "sns.set_theme(); sns.set_context('notebook'); sns.set_style('ticks')\n",
    "\n",
    "# x = df_speech['Count'].values\n",
    "# y = df_speech['Expenses'].values"
   ]
  },
  {
   "cell_type": "markdown",
   "metadata": {},
   "source": [
    "Linegraph"
   ]
  },
  {
   "cell_type": "code",
   "execution_count": null,
   "metadata": {},
   "outputs": [],
   "source": [
    "#TODO Plot lingraph: X = Year, Y = Expenses, Lines = Different countries?\n",
    "ax = sns.lineplot(x=\"Year\", y=\"Count\", hue='Sub-region Name', data=df_speech, palette='tab10')\n",
    "ax.legend(ncol=2, bbox_to_anchor=(1, 1), frameon=False)"
   ]
  },
  {
   "cell_type": "markdown",
   "metadata": {},
   "source": [
    "Scatterplot"
   ]
  },
  {
   "cell_type": "code",
   "execution_count": null,
   "metadata": {},
   "outputs": [],
   "source": [
    "# Scatterplot: X = Year, Y = Expenses, Dot = Country\n",
    "ax = sns.scatterplot(x=\"Count\", y=\"Expenses\", hue='Country or Area', data=df_speech)\n",
    "ax.legend(ncol=2, bbox_to_anchor=(1, 1), frameon=False)"
   ]
  },
  {
   "cell_type": "markdown",
   "metadata": {},
   "source": [
    "Histogram"
   ]
  },
  {
   "cell_type": "code",
   "execution_count": null,
   "metadata": {},
   "outputs": [],
   "source": [
    "#TODO Plot histogram: group data by ISO, "
   ]
  },
  {
   "cell_type": "markdown",
   "metadata": {},
   "source": [
    "Geopandas"
   ]
  },
  {
   "cell_type": "code",
   "execution_count": null,
   "metadata": {},
   "outputs": [],
   "source": [
    "import geopandas\n",
    "\n",
    "world = geopandas.read_file(geopandas.datasets.get_path(\"naturalearth_lowres\"))\n",
    "europe = world.merge(df_speech, how='inner', left_on='name', right_on='Country or Area')"
   ]
  },
  {
   "cell_type": "code",
   "execution_count": null,
   "metadata": {},
   "outputs": [],
   "source": [
    "# ax = world.plot(, color='white', edgecolor='black')\n",
    "fig, ax = plt.subplots(1)\n",
    "europe.plot(column='Count', ax=ax, legend=True)"
   ]
  },
  {
   "cell_type": "code",
   "execution_count": null,
   "metadata": {},
   "outputs": [],
   "source": []
  }
 ],
 "metadata": {
  "kernelspec": {
   "display_name": "Python 3.10.6 64-bit",
   "language": "python",
   "name": "python3"
  },
  "language_info": {
   "codemirror_mode": {
    "name": "ipython",
    "version": 3
   },
   "file_extension": ".py",
   "mimetype": "text/x-python",
   "name": "python",
   "nbconvert_exporter": "python",
   "pygments_lexer": "ipython3",
   "version": "3.10.6"
  },
  "orig_nbformat": 4,
  "vscode": {
   "interpreter": {
    "hash": "aee8b7b246df8f9039afb4144a1f6fd8d2ca17a180786b69acc140d282b71a49"
   }
  }
 },
 "nbformat": 4,
 "nbformat_minor": 2
}
